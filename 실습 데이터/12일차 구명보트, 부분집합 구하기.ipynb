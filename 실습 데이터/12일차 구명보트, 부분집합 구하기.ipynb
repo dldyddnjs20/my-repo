{
 "cells": [
  {
   "cell_type": "code",
   "execution_count": 62,
   "metadata": {},
   "outputs": [
    {
     "name": "stdout",
     "output_type": "stream",
     "text": [
      "필요한 최소의 보트수량은  5\n"
     ]
    }
   ],
   "source": [
    "from collections import deque\n",
    "with open (\"침몰타이타닉1.txt\")as f:\n",
    "    n,weight_max = map(int,f.readline().split())\n",
    "    vote_people = list(map(int,f.readline().split()))\n",
    "vote_people.sort()\n",
    "count=0\n",
    "dq=deque(vote_people)\n",
    "\n",
    "while dq:\n",
    "    if len(dq)==1:\n",
    "        count +=1\n",
    "        dq(pop)\n",
    "    if dq[0]+dq[-1] > weight_max :\n",
    "        count +=1\n",
    "        dq.pop()\n",
    "    else:\n",
    "        count +=1\n",
    "        dq.popleft() # 앞사람 내보내기\n",
    "        dq.pop()# 뒷사람 내보내기\n",
    "        \n",
    "print(\"필요한 최소의 보트수량은 \",count)"
   ]
  },
  {
   "cell_type": "code",
   "execution_count": 53,
   "metadata": {},
   "outputs": [
    {
     "data": {
      "text/plain": [
       "(10, 150)"
      ]
     },
     "execution_count": 53,
     "metadata": {},
     "output_type": "execute_result"
    }
   ],
   "source": [
    "n, weight"
   ]
  },
  {
   "cell_type": "code",
   "execution_count": 8,
   "metadata": {},
   "outputs": [
    {
     "data": {
      "text/plain": [
       "[86, 95, 107, 67, 38, 49, 116, 22, 78, 53]"
      ]
     },
     "execution_count": 8,
     "metadata": {},
     "output_type": "execute_result"
    }
   ],
   "source": [
    "people"
   ]
  },
  {
   "cell_type": "code",
   "execution_count": 59,
   "metadata": {},
   "outputs": [
    {
     "name": "stdout",
     "output_type": "stream",
     "text": [
      "필요한 최소의 보트수량은  5\n"
     ]
    }
   ],
   "source": [
    "with open (\"침몰타이타닉1.txt\")as f:\n",
    "    n,weight_max = map(int,f.readline().split())\n",
    "    vote_people = list(map(int,f.readline().split()))\n",
    "vote_people.sort()\n",
    "count=0\n",
    "\n",
    "while vote_people:\n",
    "    if len(vote_people)==1:\n",
    "        count +=1\n",
    "        vote_people(pop)\n",
    "    if vote_people[0]+vote_people[-1] > weight_max :\n",
    "        count +=1\n",
    "        vote_people.pop()\n",
    "    else:\n",
    "        count +=1\n",
    "        vote_people.pop(0) # 앞사람 내보내기\n",
    "        vote_people.pop(-1)# 뒷사람 내보내기\n",
    "        \n",
    "print(\"필요한 최소의 보트수량은 \",count)"
   ]
  },
  {
   "cell_type": "code",
   "execution_count": 54,
   "metadata": {},
   "outputs": [
    {
     "data": {
      "text/plain": [
       "(10, 150)"
      ]
     },
     "execution_count": 54,
     "metadata": {},
     "output_type": "execute_result"
    }
   ],
   "source": [
    "n,weight"
   ]
  },
  {
   "cell_type": "code",
   "execution_count": 79,
   "metadata": {},
   "outputs": [],
   "source": [
    "with open(\"부분집합구하기1.txt\")as f:\n",
    "    n=int(f.readline())"
   ]
  },
  {
   "cell_type": "code",
   "execution_count": 94,
   "metadata": {},
   "outputs": [
    {
     "name": "stdout",
     "output_type": "stream",
     "text": [
      "n = 3\n",
      "\n",
      "1 2 3 \n",
      "1 2 \n",
      "1 3 \n",
      "1 \n",
      "2 3 \n",
      "2 \n",
      "3 \n"
     ]
    }
   ],
   "source": [
    "def MarkBit(x, c):\n",
    "    a = [0] * c\n",
    "    for i in range(c):\n",
    "        a[c - i - 1] = x % 2\n",
    "        x = x//2\n",
    "    return a\n",
    "\n",
    "n = int(input(\"n = \"))\n",
    "tt = [i for i in range(1, n + 1)]\n",
    "\n",
    "for i in range(2**n):\n",
    "    idx = MarkBit((2**n - i), n)\n",
    "    for j in range(n):\n",
    "        if idx[j] == 1:\n",
    "            print(tt[j], end = \" \")\n",
    "    print()"
   ]
  },
  {
   "cell_type": "code",
   "execution_count": 88,
   "metadata": {},
   "outputs": [
    {
     "name": "stdout",
     "output_type": "stream",
     "text": [
      "[0, 0, 0, 0]\n",
      "[1, 1, 1, 1]\n",
      "[1, 1, 1, 0]\n",
      "[1, 1, 0, 1]\n",
      "[1, 1, 0, 0]\n",
      "[1, 0, 1, 1]\n",
      "[1, 0, 1, 0]\n",
      "[1, 0, 0, 1]\n",
      "[1, 0, 0, 0]\n",
      "[0, 1, 1, 1]\n",
      "[0, 1, 1, 0]\n",
      "[0, 1, 0, 1]\n",
      "[0, 1, 0, 0]\n",
      "[0, 0, 1, 1]\n",
      "[0, 0, 1, 0]\n",
      "[0, 0, 0, 1]\n"
     ]
    }
   ],
   "source": [
    "n = 4\n",
    "for i in range(2**n):\n",
    "    idx = MarkBit((2**n-i),n)\n",
    "    print(idx)\n",
    "n=int(input(\"n= \")\n",
    "tt = "
   ]
  },
  {
   "cell_type": "code",
   "execution_count": 83,
   "metadata": {},
   "outputs": [
    {
     "name": "stdout",
     "output_type": "stream",
     "text": [
      "1\n",
      "3\n",
      "4\n"
     ]
    }
   ],
   "source": [
    "A=[1,0,1,1]\n",
    "B=[1,2,3,4]\n",
    "for j in range(len(B)):\n",
    "    if A[j] == 1:\n",
    "        print(B[j])"
   ]
  },
  {
   "cell_type": "code",
   "execution_count": null,
   "metadata": {},
   "outputs": [],
   "source": []
  }
 ],
 "metadata": {
  "kernelspec": {
   "display_name": "Python 3",
   "language": "python",
   "name": "python3"
  },
  "language_info": {
   "codemirror_mode": {
    "name": "ipython",
    "version": 3
   },
   "file_extension": ".py",
   "mimetype": "text/x-python",
   "name": "python",
   "nbconvert_exporter": "python",
   "pygments_lexer": "ipython3",
   "version": "3.8.3"
  }
 },
 "nbformat": 4,
 "nbformat_minor": 4
}
