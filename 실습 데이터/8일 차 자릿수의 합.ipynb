{
 "cells": [
  {
   "cell_type": "code",
   "execution_count": 4,
   "metadata": {},
   "outputs": [],
   "source": [
    "f=open(\"사과나무in1.txt\",\"r\")\n",
    "n=int(f.readline())\n",
    "a = list(map(int,f.readline().split()))"
   ]
  },
  {
   "cell_type": "code",
   "execution_count": 5,
   "metadata": {},
   "outputs": [
    {
     "data": {
      "text/plain": [
       "[74, 10, 31, 26, 59, 16, 89]"
      ]
     },
     "execution_count": 5,
     "metadata": {},
     "output_type": "execute_result"
    }
   ],
   "source": [
    "a"
   ]
  },
  {
   "cell_type": "code",
   "execution_count": 55,
   "metadata": {},
   "outputs": [
    {
     "name": "stdout",
     "output_type": "stream",
     "text": [
      "884 659 "
     ]
    }
   ],
   "source": [
    "f=open(\"자릿수합input2.txt\",\"r\")\n",
    "n=int(f.readline())\n",
    "a = list(map(int,f.readline().split()))\n",
    "\n",
    "def digit_sum(num):\n",
    "    return sum(map(int,str(num)))\n",
    "max_val = 0\n",
    "lst=[]\n",
    "for xx in a:\n",
    "    tot = digit_sum(xx)\n",
    "    if tot >= max_val :\n",
    "        max_val=tot\n",
    "        lst.append(xx)\n",
    "        \n",
    "final=0\n",
    "for i in range(3,-1,-1): # 인덱스 기법,슬라이싱 박식을 리버스로...\n",
    "    tot = digit_sum(lst[i])\n",
    "    if tot >=final :\n",
    "        final=tot\n",
    "        print(lst[i], end=' ')\n",
    "        \n",
    "f.close()"
   ]
  },
  {
   "cell_type": "code",
   "execution_count": 48,
   "metadata": {},
   "outputs": [
    {
     "data": {
      "text/plain": [
       "[770, 883, 659, 884]"
      ]
     },
     "execution_count": 48,
     "metadata": {},
     "output_type": "execute_result"
    }
   ],
   "source": [
    "lst"
   ]
  },
  {
   "cell_type": "code",
   "execution_count": 49,
   "metadata": {},
   "outputs": [
    {
     "name": "stdout",
     "output_type": "stream",
     "text": [
      "14,12,19,20,11,14,12,11,14,16,6,15,11,11,20,"
     ]
    }
   ],
   "source": [
    "for xx in a:\n",
    "    print(digit_sum(xx), end=',')"
   ]
  },
  {
   "cell_type": "code",
   "execution_count": 50,
   "metadata": {},
   "outputs": [
    {
     "data": {
      "text/plain": [
       "[770, 93, 883, 659, 641, 446, 354, 227, 338, 178, 510, 357, 560, 362, 884]"
      ]
     },
     "execution_count": 50,
     "metadata": {},
     "output_type": "execute_result"
    }
   ],
   "source": [
    "a"
   ]
  },
  {
   "cell_type": "code",
   "execution_count": null,
   "metadata": {},
   "outputs": [],
   "source": []
  }
 ],
 "metadata": {
  "kernelspec": {
   "display_name": "Python 3",
   "language": "python",
   "name": "python3"
  },
  "language_info": {
   "codemirror_mode": {
    "name": "ipython",
    "version": 3
   },
   "file_extension": ".py",
   "mimetype": "text/x-python",
   "name": "python",
   "nbconvert_exporter": "python",
   "pygments_lexer": "ipython3",
   "version": "3.8.3"
  }
 },
 "nbformat": 4,
 "nbformat_minor": 4
}
