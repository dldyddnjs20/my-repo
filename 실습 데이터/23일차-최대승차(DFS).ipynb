{
 "cells": [
  {
   "cell_type": "markdown",
   "metadata": {},
   "source": [
    "## 최대승차(DFS)\n",
    "철수는 그의 친구들을 데리고 시장에 가려고 한다. 그런데 그의 트럭은 C킬로그램 넘게 태울수가 없다. 철수는 C를 넘지 않으면서 그의 친구들을 가장 무겁게 태우고 싶다.N명의 친구들과 각 친구의 무게 W가 주어지면, 철수가 트럭에 태울 수 있는가장 무거운 무게를 구하는 프로그램을 작성하세요.\n",
    "\n",
    "- 입력설명\n",
    "첫 번째 줄에 자연수 C(1<=C<=100,000,000)와 N(1<=N<=30)이 주어집니다.\n",
    "둘째 줄부터 N명의 친구의 무게가 주어진다."
   ]
  },
  {
   "cell_type": "markdown",
   "metadata": {},
   "source": [
    "### 선생님이 푼 문제"
   ]
  },
  {
   "cell_type": "code",
   "execution_count": 1,
   "metadata": {},
   "outputs": [
    {
     "name": "stdout",
     "output_type": "stream",
     "text": [
      "3994\n"
     ]
    }
   ],
   "source": [
    "def DFS(index, sum):\n",
    "    global final_w\n",
    "    if sum > c:\n",
    "        return\n",
    "    if index == n:\n",
    "        if sum > final_w:\n",
    "            final_w = sum\n",
    "    else:\n",
    "        DFS(index+1, sum+ar[index])\n",
    "        DFS(index+1,sum)\n",
    "\n",
    "\n",
    "f= open(\"최대승차in1.txt\",\"r\")\n",
    "c, n = map(int,f.readline().split())\n",
    "ar = [0]*n\n",
    "final_w=0\n",
    "for i in range(n):\n",
    "    ar[i]=int(f.readline())\n",
    "DFS(0,0)\n",
    "print(final_w)"
   ]
  },
  {
   "cell_type": "code",
   "execution_count": null,
   "metadata": {},
   "outputs": [],
   "source": []
  }
 ],
 "metadata": {
  "kernelspec": {
   "display_name": "Python 3",
   "language": "python",
   "name": "python3"
  },
  "language_info": {
   "codemirror_mode": {
    "name": "ipython",
    "version": 3
   },
   "file_extension": ".py",
   "mimetype": "text/x-python",
   "name": "python",
   "nbconvert_exporter": "python",
   "pygments_lexer": "ipython3",
   "version": "3.8.3"
  }
 },
 "nbformat": 4,
 "nbformat_minor": 4
}
