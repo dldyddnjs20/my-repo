{
 "cells": [
  {
   "cell_type": "code",
   "execution_count": 14,
   "metadata": {},
   "outputs": [
    {
     "name": "stdout",
     "output_type": "stream",
     "text": [
      "회의가 가능한 횟수는 =  6\n"
     ]
    }
   ],
   "source": [
    "f=open(\"회의실in1.txt\",\"r\")\n",
    "n=int(f.readline())\n",
    "meeting = []\n",
    "for i in range(n):\n",
    "    st, et = map(int,f.readline().split())\n",
    "    meeting.append((st,et))\n",
    "meeting.sort(key=lambda x : (x[1], x[0]))\n",
    "\n",
    "cnt = 0\n",
    "et = 0\n",
    "for s,e in meeting:\n",
    "    if s >=et:\n",
    "        et=e # 이전 미팅의 마지막 시간을 보관한다.\n",
    "        cnt +=1\n",
    "        \n",
    "print(\"회의가 가능한 횟수는 = \",cnt)        "
   ]
  },
  {
   "cell_type": "code",
   "execution_count": 16,
   "metadata": {},
   "outputs": [
    {
     "data": {
      "text/plain": [
       "[(1, 5),\n",
       " (2, 8),\n",
       " (5, 9),\n",
       " (11, 12),\n",
       " (11, 13),\n",
       " (12, 15),\n",
       " (4, 16),\n",
       " (9, 19),\n",
       " (18, 19),\n",
       " (2, 20),\n",
       " (5, 20),\n",
       " (14, 20),\n",
       " (16, 20),\n",
       " (4, 21),\n",
       " (13, 21),\n",
       " (2, 22),\n",
       " (16, 22),\n",
       " (12, 23),\n",
       " (21, 23),\n",
       " (22, 23)]"
      ]
     },
     "execution_count": 16,
     "metadata": {},
     "output_type": "execute_result"
    }
   ],
   "source": [
    "meeting"
   ]
  },
  {
   "cell_type": "code",
   "execution_count": 12,
   "metadata": {},
   "outputs": [
    {
     "name": "stdout",
     "output_type": "stream",
     "text": [
      "614\n"
     ]
    }
   ],
   "source": [
    "f=open(\"격자판최대합1.txt\",\"r\")\n",
    "n=int(f.readline())\n",
    "a=[list(map(int,f.readline().split())) for _ in range(n)]\n",
    "# 가로와 세로의 합을 구하고 최대값 구하기\n",
    "result=0\n",
    "for i in range(n):\n",
    "    garosum=serosum=0\n",
    "    for j in range(n):\n",
    "        garosum = garosum + a[i][j]\n",
    "        serosum = serosum + a[j][i]\n",
    "    if garosum > result:\n",
    "        result = garosum\n",
    "    if serosum > result:\n",
    "        result = serosum\n",
    "\n",
    "# 대각선 합을 구하고 최대값 갱신하기\n",
    "dagak1=dagak2=0\n",
    "for i in range(n):\n",
    "    dagak1 += a[i][j]\n",
    "    dagak2 += a[i][n-1-i]\n",
    "if dagak1 > result:\n",
    "    result = dagak1\n",
    "if dagak2 > result:\n",
    "    result = dagak2\n",
    "print(result)\n",
    "f.close()"
   ]
  },
  {
   "cell_type": "code",
   "execution_count": 8,
   "metadata": {},
   "outputs": [
    {
     "data": {
      "text/plain": [
       "[[75, 79, 6, 72, 40, 72, 28, 43, 64, 19],\n",
       " [97, 71, 12, 48, 64, 95, 64, 40, 38, 24],\n",
       " [52, 17, 58, 64, 13, 37, 38, 5, 30, 36],\n",
       " [43, 30, 15, 8, 13, 21, 81, 29, 79, 33],\n",
       " [20, 4, 31, 24, 93, 60, 61, 19, 9, 88],\n",
       " [12, 33, 30, 4, 38, 62, 98, 34, 65, 33],\n",
       " [37, 26, 6, 60, 82, 57, 49, 85, 66, 67],\n",
       " [93, 4, 29, 67, 65, 96, 5, 27, 39, 87],\n",
       " [16, 52, 8, 7, 56, 19, 8, 53, 52, 93],\n",
       " [87, 55, 58, 84, 61, 92, 3, 74, 66, 34]]"
      ]
     },
     "execution_count": 8,
     "metadata": {},
     "output_type": "execute_result"
    }
   ],
   "source": [
    "a"
   ]
  },
  {
   "cell_type": "code",
   "execution_count": null,
   "metadata": {},
   "outputs": [],
   "source": []
  }
 ],
 "metadata": {
  "kernelspec": {
   "display_name": "Python 3",
   "language": "python",
   "name": "python3"
  },
  "language_info": {
   "codemirror_mode": {
    "name": "ipython",
    "version": 3
   },
   "file_extension": ".py",
   "mimetype": "text/x-python",
   "name": "python",
   "nbconvert_exporter": "python",
   "pygments_lexer": "ipython3",
   "version": "3.8.3"
  }
 },
 "nbformat": 4,
 "nbformat_minor": 4
}
