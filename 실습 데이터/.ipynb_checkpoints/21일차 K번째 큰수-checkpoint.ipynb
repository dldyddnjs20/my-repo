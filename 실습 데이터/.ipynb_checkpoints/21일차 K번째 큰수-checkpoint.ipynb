{
 "cells": [
  {
   "cell_type": "markdown",
   "metadata": {},
   "source": [
    "## K번째 큰수\n",
    "현수는 1부터 100사이의 자연수가 적힌 N장의 카드를 가지고 있습니다. 같은숫자의 카드가 여러장 있을 수 있습니다. 현수는 이중 3장을 뽑아 각 카드에 적힌 수를 합한 값을 기록하려고 합니다. 3장을 뽑을 수 있는 모든 경우를 기록합니다. 기록한 값 중 K번째로 큰 수를 출력하는 프로그램을 작성하세요.\n",
    "\n",
    "만약 큰수부터 만들어진수가 25 25 23 23 22 20 19... 이고 K갑이 3이라면 k번째 큰 값은 22입니다.\n",
    "\n",
    "입력설명\n",
    "- 첫 줄에 자연수 N(3<= N <=100)과 (1<= K <= 50)입력되고, 그 다음 줄에 N개의 카드값이 입력된다.\n",
    "\n",
    "출력설명\n",
    "- 첫 줄에 K번째 수를 출력합니다. K번쨰 수는 반드시 존재합니다.\n",
    "\n",
    "입력예제1\n",
    "10 3\n",
    "12 15 34 23 45 65 33 11 26 42\n",
    "출력예제1\n",
    "143"
   ]
  },
  {
   "cell_type": "markdown",
   "metadata": {},
   "source": [
    "### 내가 푼 문제"
   ]
  },
  {
   "cell_type": "code",
   "execution_count": 9,
   "metadata": {},
   "outputs": [],
   "source": [
    "f = open(\"k번째큰수in1.txt\",\"r\")\n",
    "n,k = map(int,f.readline().split())\n",
    "num = list(map(int,f.readline().split()))\n",
    "num_sum = set() # num 을 중복제거\n",
    "for i in range():\n"
   ]
  },
  {
   "cell_type": "code",
   "execution_count": 10,
   "metadata": {},
   "outputs": [
    {
     "data": {
      "text/plain": [
       "[18, 54, 46, 52, 28, 22, 23, 53, 28, 40]"
      ]
     },
     "execution_count": 10,
     "metadata": {},
     "output_type": "execute_result"
    }
   ],
   "source": [
    "num"
   ]
  },
  {
   "cell_type": "markdown",
   "metadata": {},
   "source": [
    "## 선생님이 푼 문제"
   ]
  },
  {
   "cell_type": "code",
   "execution_count": 15,
   "metadata": {},
   "outputs": [
    {
     "name": "stdout",
     "output_type": "stream",
     "text": [
      "143\n"
     ]
    }
   ],
   "source": [
    "# f = open(\"k번째큰수in1.txt\",\"r\")\n",
    "# n,k = map(int,f.readline().split())\n",
    "# ar = list(map(int,f.readline().split()))\n",
    "n,k = (10,3)\n",
    "ar = [13, 15, 34, 23, 45, 65, 33,11,26,42 ]\n",
    "sum_list = set()\n",
    "for i in range(n):\n",
    "    for j in range(i+1,n):\n",
    "        for l in range(j+1,n):\n",
    "            sum_list.add(ar[i]+ar[j]+ar[l]) # 들어가면서 합의 중복이 제거된다.\n",
    "sum_list=list(sum_list)\n",
    "sum_list.sort(reverse=True) # 내림차순으로 소트하게된다.\n",
    "print(sum_list[k-1])"
   ]
  },
  {
   "cell_type": "markdown",
   "metadata": {},
   "source": [
    "## 순열\n",
    "1부터 N까지 번호가 적힌 구슬이 있습니다. 이중 M개를 뽑아 일렬로 나열하는 방법을 모두 출력합니다.\n",
    "\n",
    "입력설명\n",
    "- 첫 번째 줄에 자연수 N(3<=N<=10)과 M(2<=M<=N) 이 주어집니다.\n",
    "\n",
    "출력 설명\n",
    "- 첫 번째 줄에 결과를 출력합니다. 맨 마지막 총 경우의 수를 출력합니다. 출력순서는 사전순으로 오름차순으로 출력합니다."
   ]
  },
  {
   "cell_type": "markdown",
   "metadata": {},
   "source": [
    "## 선생님이 푼 문제"
   ]
  },
  {
   "cell_type": "code",
   "execution_count": 20,
   "metadata": {},
   "outputs": [
    {
     "name": "stdout",
     "output_type": "stream",
     "text": [
      "4 2\n",
      "1 2 \n",
      "1 3 \n",
      "1 4 \n",
      "2 1 \n",
      "2 3 \n",
      "2 4 \n",
      "3 1 \n",
      "3 2 \n",
      "3 4 \n",
      "4 1 \n",
      "4 2 \n",
      "4 3 \n",
      "12\n"
     ]
    }
   ],
   "source": [
    "def DFS(level) :\n",
    "    global cnt\n",
    "    if level == m :\n",
    "        for i in range(m):\n",
    "            print(disp[i], end= \" \")\n",
    "        print()\n",
    "        cnt+=1\n",
    "    else:\n",
    "        for i in range(1, n+1):\n",
    "            if ckd_tbl[i] == 0:\n",
    "                ckd_tbl[i] = 1\n",
    "                disp[level] = i\n",
    "                DFS(level+1)\n",
    "                ckd_tbl[i]=0\n",
    "\n",
    "n,m= map(int,input().split())\n",
    "disp = [0]*n\n",
    "ckd_tbl= [0]*(n+1)\n",
    "cnt = 0\n",
    "DFS(0)\n",
    "print(cnt)"
   ]
  },
  {
   "cell_type": "code",
   "execution_count": null,
   "metadata": {},
   "outputs": [],
   "source": []
  }
 ],
 "metadata": {
  "kernelspec": {
   "display_name": "Python 3",
   "language": "python",
   "name": "python3"
  },
  "language_info": {
   "codemirror_mode": {
    "name": "ipython",
    "version": 3
   },
   "file_extension": ".py",
   "mimetype": "text/x-python",
   "name": "python",
   "nbconvert_exporter": "python",
   "pygments_lexer": "ipython3",
   "version": "3.8.3"
  }
 },
 "nbformat": 4,
 "nbformat_minor": 4
}
