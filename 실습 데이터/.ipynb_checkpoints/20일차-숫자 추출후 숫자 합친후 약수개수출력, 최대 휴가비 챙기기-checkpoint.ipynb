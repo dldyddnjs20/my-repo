{
 "cells": [
  {
   "cell_type": "markdown",
   "metadata": {},
   "source": [
    "# 숫자 추출 후 숫자를 합친 후 약수의 개수 출력\n",
    "문자와 숫자가 섞여있는 문자열이 주어지면 그 중 숫자만 추출하여 그 순서대로 자연수를 만듭니다.\n",
    "만들어진 자연수와 그 자연수의 약수 개수를 출력합니다.\n",
    "\n",
    "만약 \"toeoa1c2hoer\"에서 숫자만 추출하면 0,0,1,2,0 이고 이것을 자연수로 만들면 120이 됩니다. 즉 첫자리 0 은 자연수화 할때 무시합니다. 출력은 120을 출력하고 다음줄에 120의 약수의 개수를 출력하면 됩니다.\n",
    "\n",
    "### 입력예제 ex) g0en2Ts8eSoft\n",
    "### 출력예제 ex) 28, 6"
   ]
  },
  {
   "cell_type": "markdown",
   "metadata": {},
   "source": [
    "## 내가 푼 문제"
   ]
  },
  {
   "cell_type": "code",
   "execution_count": 19,
   "metadata": {},
   "outputs": [
    {
     "name": "stdout",
     "output_type": "stream",
     "text": [
      "28\n",
      "['0', '2', '8']\n"
     ]
    }
   ],
   "source": [
    "import re\n",
    "\n",
    "n = \"g0en2Ts8eSoft\"\n",
    "newn = re.findall(\"\\d\",n)\n",
    "res = 0\n",
    "for i in newn:\n",
    "    res = res *10 + int(i)\n",
    "    \n",
    "print(res)\n",
    "print(newn)"
   ]
  },
  {
   "cell_type": "markdown",
   "metadata": {},
   "source": [
    "## 선생님이 푼 문제"
   ]
  },
  {
   "cell_type": "code",
   "execution_count": 25,
   "metadata": {},
   "outputs": [
    {
     "name": "stdout",
     "output_type": "stream",
     "text": [
      "dasdsadasdas22dd22\n",
      "2222\n",
      "8\n"
     ]
    }
   ],
   "source": [
    "temp_str = input()\n",
    "num = 0\n",
    "for xx in temp_str:\n",
    "    if xx.isdecimal():\n",
    "        num = num * 10 + int(xx)\n",
    "print(num)\n",
    "cnt = 0\n",
    "for i in range(1, num+1):\n",
    "    if num %i == 0:\n",
    "        cnt += 1\n",
    "print(cnt)"
   ]
  },
  {
   "cell_type": "markdown",
   "metadata": {},
   "source": [
    "# 최대 휴가비 챙기기(삼성 s/w 역량 기출 문제)\n",
    "카운셀러로 일하고 있는 현수는 오늘부터 N+1일째 되는 날 휴가를 가기 위해서, 남은 N일 동안 최대한 많은 상담을 해서 휴가비를 넉넉히 만들어 휴가를 떠나려 한다. 현수가 다니는 회사에 하루에 하나씩 서로 다른 사람의 상담이 예약되어 있다. 각각의 상담은 상담을 완료하는데 걸리는 날수 T와 상담을 했을 때 받을 수 있는 금액 P로 이루어져있다. 만약 N=7이고, 아래와 같이 예악이 잡혔었다면 1일에 잡혀있는 상담은 총 4일이 걸리며, 상담 했을때 받을 수 있는 금액은 20이다. 만약 1일에 예약된 상담을 하면 4일까지는 상담을 할 수 없다.\n",
    "\n",
    "하나의 상담이 하루를 넘어가는 경우가 많기 때문에 현수는 예약된 모든 상담을 혼자 할 수 없어 최대 이익이 나는 상담 스케쥴을 짜기로 했다. 휴가를 떠나기 전에 할 수 있는 상담의 최대 이익은 1일, 5일, 7일 있는 상담을 하는것이며, 이때의 이익은 20+30+10=60이다. 현수가 휴가를 가기 위해 얻을 수 있는 최대 수익을 구하는 프로그램을 작성하시오\n",
    "\n",
    "\n",
    "              1일  2일  3일  4일  5일  6일  7일\n",
    "              \n",
    "        T     4    2    3    3    2    2    1\n",
    "        \n",
    "        P     20   10   15   20   30   20   10"
   ]
  },
  {
   "cell_type": "markdown",
   "metadata": {},
   "source": [
    "### 내 코드"
   ]
  },
  {
   "cell_type": "code",
   "execution_count": 3,
   "metadata": {},
   "outputs": [],
   "source": [
    "f = open(\"회의실in1.txt\",\"r\")\n",
    "n = int(f.readline())\n",
    "t,p = list(map(int,f.readline().split(\" \")))\n",
    "\n",
    "def DFS():\n",
    "    "
   ]
  },
  {
   "cell_type": "code",
   "execution_count": 4,
   "metadata": {},
   "outputs": [
    {
     "data": {
      "text/plain": [
       "20"
      ]
     },
     "execution_count": 4,
     "metadata": {},
     "output_type": "execute_result"
    }
   ],
   "source": [
    "n"
   ]
  },
  {
   "cell_type": "code",
   "execution_count": 7,
   "metadata": {},
   "outputs": [
    {
     "name": "stdout",
     "output_type": "stream",
     "text": [
      "18\n"
     ]
    }
   ],
   "source": []
  },
  {
   "cell_type": "markdown",
   "metadata": {},
   "source": [
    "### 선생님 코드"
   ]
  },
  {
   "cell_type": "code",
   "execution_count": 26,
   "metadata": {},
   "outputs": [
    {
     "name": "stdout",
     "output_type": "stream",
     "text": [
      "DFS(1,0) DFS(4,10) DFS(5,40) DFS(6,40) total= 40\n",
      "DFS(5,10) DFS(6,10) DFS(2,0) DFS(4,15) DFS(5,45) DFS(6,45) total= 45\n",
      "DFS(5,15) DFS(6,15) DFS(3,0) DFS(4,10) DFS(5,40) DFS(6,40) DFS(5,10) DFS(6,10) DFS(4,0) DFS(5,30) DFS(6,30) DFS(5,0) DFS(6,0) \n",
      " max_result =  45\n"
     ]
    }
   ],
   "source": [
    "def DFS(TD,total):\n",
    "    global max_result\n",
    "    if TD == n+1 :\n",
    "        if total > max_result:\n",
    "            max_result = total\n",
    "            print(\"total=\",total)\n",
    "    else:\n",
    "        if TD + T[TD] <= n+1:\n",
    "            print(\"DFS({},{})\".format(TD+T[TD],total+P[TD]),end= \" \")\n",
    "            DFS(TD+T[TD],total+P[TD])\n",
    "        print(\"DFS({},{})\".format(TD+1,total),end= \" \")\n",
    "        DFS(TD+1,total)\n",
    "\n",
    "\n",
    "\n",
    "# 초기화 세팅\n",
    "f = open(\"휴가비in1.txt\",\"r\")\n",
    "n = int(f.readline())\n",
    "T = [];P = [];\n",
    "for _ in range(n):\n",
    "    a,b = map(int,f.readline().split())\n",
    "    T.append(a); P.append(b)\n",
    "T.insert(0,0); P.insert(0,0) # t,p 와 index를 맞춰줘서 편하게 보기위해\n",
    "max_result=0\n",
    "print(\"DFS(1,0)\", end= \" \")\n",
    "DFS(1,0)\n",
    "print(\"\\n max_result = \",max_result)"
   ]
  },
  {
   "cell_type": "code",
   "execution_count": 16,
   "metadata": {},
   "outputs": [
    {
     "data": {
      "text/plain": [
       "([0, 3, 2, 1, 1, 2], [0, 10, 15, 10, 30, 10])"
      ]
     },
     "execution_count": 16,
     "metadata": {},
     "output_type": "execute_result"
    }
   ],
   "source": [
    "T,P"
   ]
  },
  {
   "cell_type": "code",
   "execution_count": null,
   "metadata": {},
   "outputs": [],
   "source": []
  }
 ],
 "metadata": {
  "kernelspec": {
   "display_name": "Python 3",
   "language": "python",
   "name": "python3"
  },
  "language_info": {
   "codemirror_mode": {
    "name": "ipython",
    "version": 3
   },
   "file_extension": ".py",
   "mimetype": "text/x-python",
   "name": "python",
   "nbconvert_exporter": "python",
   "pygments_lexer": "ipython3",
   "version": "3.8.3"
  }
 },
 "nbformat": 4,
 "nbformat_minor": 4
}
