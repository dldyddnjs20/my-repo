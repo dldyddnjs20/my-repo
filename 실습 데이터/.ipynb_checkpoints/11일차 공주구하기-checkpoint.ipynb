{
 "cells": [
  {
   "cell_type": "code",
   "execution_count": 1,
   "metadata": {},
   "outputs": [],
   "source": [
    "lst = [xx for xx in range(1,9)]#[1,2,3,4,5,6,7,8]"
   ]
  },
  {
   "cell_type": "code",
   "execution_count": 2,
   "metadata": {},
   "outputs": [
    {
     "data": {
      "text/plain": [
       "[1, 2, 3, 4, 5, 6, 7, 8]"
      ]
     },
     "execution_count": 2,
     "metadata": {},
     "output_type": "execute_result"
    }
   ],
   "source": [
    "lst"
   ]
  },
  {
   "cell_type": "code",
   "execution_count": 3,
   "metadata": {},
   "outputs": [
    {
     "data": {
      "text/plain": [
       "8"
      ]
     },
     "execution_count": 3,
     "metadata": {},
     "output_type": "execute_result"
    }
   ],
   "source": [
    "lst.pop()"
   ]
  },
  {
   "cell_type": "code",
   "execution_count": 4,
   "metadata": {},
   "outputs": [
    {
     "data": {
      "text/plain": [
       "[1, 2, 3, 4, 5, 6, 7]"
      ]
     },
     "execution_count": 4,
     "metadata": {},
     "output_type": "execute_result"
    }
   ],
   "source": [
    "lst"
   ]
  },
  {
   "cell_type": "code",
   "execution_count": 5,
   "metadata": {},
   "outputs": [
    {
     "data": {
      "text/plain": [
       "1"
      ]
     },
     "execution_count": 5,
     "metadata": {},
     "output_type": "execute_result"
    }
   ],
   "source": [
    "lst.pop(0)"
   ]
  },
  {
   "cell_type": "code",
   "execution_count": 6,
   "metadata": {},
   "outputs": [
    {
     "data": {
      "text/plain": [
       "[2, 3, 4, 5, 6, 7]"
      ]
     },
     "execution_count": 6,
     "metadata": {},
     "output_type": "execute_result"
    }
   ],
   "source": [
    "lst"
   ]
  },
  {
   "cell_type": "code",
   "execution_count": 7,
   "metadata": {},
   "outputs": [],
   "source": [
    "lst.append(lst.pop(0))"
   ]
  },
  {
   "cell_type": "code",
   "execution_count": 8,
   "metadata": {},
   "outputs": [
    {
     "data": {
      "text/plain": [
       "[3, 4, 5, 6, 7, 2]"
      ]
     },
     "execution_count": 8,
     "metadata": {},
     "output_type": "execute_result"
    }
   ],
   "source": [
    "lst"
   ]
  },
  {
   "cell_type": "code",
   "execution_count": 12,
   "metadata": {},
   "outputs": [
    {
     "name": "stdout",
     "output_type": "stream",
     "text": [
      "n과 k를 컴마로 구분해서 입력하세요20,7\n",
      "[7, 8, 9, 10, 11, 12, 13, 14, 15, 16, 17, 18, 19, 20, 1, 2, 3, 4, 5, 6]\n",
      "빠지는 왕자는 7\n",
      "[14, 15, 16, 17, 18, 19, 20, 1, 2, 3, 4, 5, 6, 8, 9, 10, 11, 12, 13]\n",
      "빠지는 왕자는 14\n",
      "[1, 2, 3, 4, 5, 6, 8, 9, 10, 11, 12, 13, 15, 16, 17, 18, 19, 20]\n",
      "빠지는 왕자는 1\n",
      "[9, 10, 11, 12, 13, 15, 16, 17, 18, 19, 20, 2, 3, 4, 5, 6, 8]\n",
      "빠지는 왕자는 9\n",
      "[17, 18, 19, 20, 2, 3, 4, 5, 6, 8, 10, 11, 12, 13, 15, 16]\n",
      "빠지는 왕자는 17\n",
      "[5, 6, 8, 10, 11, 12, 13, 15, 16, 18, 19, 20, 2, 3, 4]\n",
      "빠지는 왕자는 5\n",
      "[15, 16, 18, 19, 20, 2, 3, 4, 6, 8, 10, 11, 12, 13]\n",
      "빠지는 왕자는 15\n",
      "[4, 6, 8, 10, 11, 12, 13, 16, 18, 19, 20, 2, 3]\n",
      "빠지는 왕자는 4\n",
      "[16, 18, 19, 20, 2, 3, 6, 8, 10, 11, 12, 13]\n",
      "빠지는 왕자는 16\n",
      "[8, 10, 11, 12, 13, 18, 19, 20, 2, 3, 6]\n",
      "빠지는 왕자는 8\n",
      "[20, 2, 3, 6, 10, 11, 12, 13, 18, 19]\n",
      "빠지는 왕자는 20\n",
      "[13, 18, 19, 2, 3, 6, 10, 11, 12]\n",
      "빠지는 왕자는 13\n",
      "[11, 12, 18, 19, 2, 3, 6, 10]\n",
      "빠지는 왕자는 11\n",
      "[10, 12, 18, 19, 2, 3, 6]\n",
      "빠지는 왕자는 10\n",
      "[12, 18, 19, 2, 3, 6]\n",
      "빠지는 왕자는 12\n",
      "[19, 2, 3, 6, 18]\n",
      "빠지는 왕자는 19\n",
      "[6, 18, 2, 3]\n",
      "빠지는 왕자는 6\n",
      "[18, 2, 3]\n",
      "빠지는 왕자는 18\n",
      "[2, 3]\n",
      "빠지는 왕자는 2\n",
      "공주를 구할 남자는 3 번째 왕자 입니다.\n"
     ]
    }
   ],
   "source": [
    "n,k = map(int, input(\"n과 k를 컴마로 구분해서 입력하세요\").split(','))\n",
    "princess=list(range(1,n+1))\n",
    "\n",
    "while princess:\n",
    "    for _ in range(k-1):\n",
    "         princess.append(princess.pop(0))\n",
    "    print(princess)        \n",
    "    print(\"빠지는 왕자는\",princess.pop(0))\n",
    "    if len(princess) == 1:\n",
    "        print(\"공주를 구할 남자는\",princess[0],\"번째 왕자 입니다.\")\n",
    "        princess.pop(0) # break"
   ]
  },
  {
   "cell_type": "code",
   "execution_count": 13,
   "metadata": {},
   "outputs": [
    {
     "data": {
      "text/plain": [
       "[1, 2, 3, 4, 5, 6, 7, 8]"
      ]
     },
     "execution_count": 13,
     "metadata": {},
     "output_type": "execute_result"
    }
   ],
   "source": [
    "princess"
   ]
  },
  {
   "cell_type": "code",
   "execution_count": 1,
   "metadata": {},
   "outputs": [],
   "source": [
    "lst = [1,2,3,4,5,6,7,8]"
   ]
  },
  {
   "cell_type": "code",
   "execution_count": 2,
   "metadata": {},
   "outputs": [],
   "source": [
    "lst.remove(1)"
   ]
  },
  {
   "cell_type": "code",
   "execution_count": 3,
   "metadata": {},
   "outputs": [
    {
     "data": {
      "text/plain": [
       "[2, 3, 4, 5, 6, 7, 8]"
      ]
     },
     "execution_count": 3,
     "metadata": {},
     "output_type": "execute_result"
    }
   ],
   "source": [
    "lst"
   ]
  },
  {
   "cell_type": "code",
   "execution_count": 2,
   "metadata": {},
   "outputs": [],
   "source": [
    "for xx in lst:\n",
    "    lst.remove(xx)"
   ]
  },
  {
   "cell_type": "code",
   "execution_count": null,
   "metadata": {},
   "outputs": [],
   "source": []
  }
 ],
 "metadata": {
  "kernelspec": {
   "display_name": "Python 3",
   "language": "python",
   "name": "python3"
  },
  "language_info": {
   "codemirror_mode": {
    "name": "ipython",
    "version": 3
   },
   "file_extension": ".py",
   "mimetype": "text/x-python",
   "name": "python",
   "nbconvert_exporter": "python",
   "pygments_lexer": "ipython3",
   "version": "3.8.3"
  }
 },
 "nbformat": 4,
 "nbformat_minor": 4
}
