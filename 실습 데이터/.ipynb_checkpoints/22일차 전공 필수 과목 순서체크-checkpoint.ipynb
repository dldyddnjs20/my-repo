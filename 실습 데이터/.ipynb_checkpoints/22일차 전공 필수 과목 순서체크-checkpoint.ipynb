{
 "cells": [
  {
   "cell_type": "markdown",
   "metadata": {},
   "source": [
    "## 전공 필수 과목 순서체크\n",
    "- 철수는1년 과정의 수업계획을 짜야합니다 수업중에는 필수과목이 있습니다. 만약 총 과목이 A, B, C, D, E, F, G가 있고, 여기서 필수과목이 CBA로 주어지면 필수과목은 C, B, A과목이며 이 순서대로 꼭 수업계획을 짜야 합니다. 여기서 순서란 B과목은 C과목을 이수한 후에 들어야 하고, A과목은 C와 B를 이수한 후에 들어야 한다는 것입니다. 철수가 C, B, D, A, G, E로 수업계획을 짜면 제대로 된 설계이지만 C, G, E, A, D, B 순서로 짰다면 잘 못 설계된 수업계획이 됩니다.수업계획은 그 순서대로 앞에 수업이 이수되면 다음 수업을 시작하다는 것으로 해석합니다. 수업계획서상의 각 과목은 무조건 이수된다고 가정합니다. 필수과목순서가 주어지면 철수가 짠 N개의 수업설계가 잘된 것이면 “YES\", 잘못된 것이면 ”NO“를 출력하는 프로그램을 작성하세요.\n",
    "\n",
    "- 입력설명\n",
    "첫 줄에 한 줄에 필수과목의 순서가 주어집니다. 모든 과목은 영문 대문자입니다.\n",
    "두 번째 줄에 N(1<=N<=10)이 주어집니다.\n",
    "세 번 째 줄부터 현수가 짠 N개의 수업설계가 주어집니다.(수업설계의 길이는 30이하이다)\n",
    "수업설계는 같은 과목을 여러 번 이수하도록 설계해도 됩니다.\n",
    "\n",
    "- 출력설명\n",
    "수업설계가 잘된 것이면 “YES\", 잘못된 것이면 ”NO“를 출력합니다.\n",
    "\n",
    "- 입력예제\n",
    "CBA\n",
    "3\n",
    "BDAGE\n",
    "FGCDAB\n",
    "CTSBDEA\n",
    "\n",
    "- 출력예제\n",
    "1 YES\n",
    "2 NO\n",
    "3 YES"
   ]
  },
  {
   "cell_type": "markdown",
   "metadata": {},
   "source": [
    "### 내가 푼 문제"
   ]
  },
  {
   "cell_type": "code",
   "execution_count": 57,
   "metadata": {},
   "outputs": [],
   "source": [
    "from collections import deque\n",
    "f = open(\"전공필수in1.txt\",\"r\")\n",
    "subject = list(map(str,f.readline()))\n",
    "n = int(f.readline())\n",
    "dq= deque(subject)\n",
    "p = []\n",
    "for i in range(n):\n",
    "    p.append(list(map(str,f.readline())))\n",
    "\n",
    "    \n",
    "\n",
    "f.close()"
   ]
  },
  {
   "cell_type": "code",
   "execution_count": 58,
   "metadata": {},
   "outputs": [
    {
     "data": {
      "text/plain": [
       "[['C', 'B', 'D', 'A', 'G', 'E', '\\n'],\n",
       " ['F', 'G', 'C', 'D', 'A', 'B', '\\n'],\n",
       " ['C', 'T', 'S', 'B', 'D', 'E', 'A', '\\n']]"
      ]
     },
     "execution_count": 58,
     "metadata": {},
     "output_type": "execute_result"
    }
   ],
   "source": [
    "p"
   ]
  },
  {
   "cell_type": "code",
   "execution_count": 55,
   "metadata": {},
   "outputs": [
    {
     "data": {
      "text/plain": [
       "['C', 'B', 'A', '\\n']"
      ]
     },
     "execution_count": 55,
     "metadata": {},
     "output_type": "execute_result"
    }
   ],
   "source": [
    "subject"
   ]
  },
  {
   "cell_type": "markdown",
   "metadata": {},
   "source": [
    "### 선생님이 푼 문제"
   ]
  },
  {
   "cell_type": "code",
   "execution_count": 74,
   "metadata": {},
   "outputs": [
    {
     "name": "stdout",
     "output_type": "stream",
     "text": [
      "#1: YES\n",
      "#2: NO\n",
      "deque(['A', '\\n'])\n",
      "#3: YES\n"
     ]
    }
   ],
   "source": [
    "from collections import deque\n",
    "f= open(\"전공필수in1.txt\",\"r\")\n",
    "major = f.readline()   # 전공 필수과목 str이라 map을 안함\n",
    "n = int(f.readline()) # 몇칸 들어오는지\n",
    "for i in range(n):\n",
    "    schedule = f.readline()\n",
    "    dq=deque(major)\n",
    "    for xx in schedule:\n",
    "        if xx in dq:\n",
    "            if xx != dq.popleft() :\n",
    "                print(\"#{}: NO\".format(i+1))\n",
    "                print(dq)\n",
    "                break\n",
    "    else:\n",
    "        if len(dq) == 0:\n",
    "            print(\"#{}: YES\".format(i+1))\n",
    "        else:\n",
    "            print(\"#{}: NO\".format(i+1)) # 예를들어 C, 만족하면 A,B가 없는경우\n",
    "    "
   ]
  },
  {
   "cell_type": "code",
   "execution_count": 62,
   "metadata": {},
   "outputs": [
    {
     "data": {
      "text/plain": [
       "deque(['C', 'B', 'A', '\\n'])"
      ]
     },
     "execution_count": 62,
     "metadata": {},
     "output_type": "execute_result"
    }
   ],
   "source": [
    "dq"
   ]
  },
  {
   "cell_type": "markdown",
   "metadata": {},
   "source": [
    "## DFS로 십진수 이진수로 변환\n",
    "10진수 N이 입력되면 2진수로 변환하여 출력하는 프로그램을 작성하세요. 단 재귀함수를 이용해서 출력해야 합니다.\n",
    "\n",
    "- 입력설명\n",
    "첫 번째 줄에 10진수 N(1<=N<=1,000)이 주어집니다.\n",
    "\n",
    "- 출력설명\n",
    "첫 번째 줄에 이진수를 출력하세요.\n",
    "\n",
    "- 입력예제 1\n",
    "11\n",
    "- 출력예제 1\n",
    "1011"
   ]
  },
  {
   "cell_type": "markdown",
   "metadata": {},
   "source": [
    "## 내가 푼 문제"
   ]
  },
  {
   "cell_type": "code",
   "execution_count": 87,
   "metadata": {},
   "outputs": [
    {
     "name": "stdout",
     "output_type": "stream",
     "text": [
      "15\n",
      "이진수의 값은 [1, 1, 1, 1]\n"
     ]
    }
   ],
   "source": [
    "def DFS(x):\n",
    "    if x ==0:\n",
    "        return\n",
    "    else:\n",
    "        d=x//2\n",
    "        DFS(d)\n",
    "        num.append(x%2)\n",
    "\n",
    "num = []\n",
    "n = int(input())\n",
    "DFS(n)\n",
    "print(\"이진수의 값은\",num)"
   ]
  },
  {
   "cell_type": "markdown",
   "metadata": {},
   "source": [
    "## 선생님이 푼 문제"
   ]
  },
  {
   "cell_type": "code",
   "execution_count": 89,
   "metadata": {},
   "outputs": [
    {
     "name": "stdout",
     "output_type": "stream",
     "text": [
      "8\n",
      "1000"
     ]
    }
   ],
   "source": [
    "def DFS(x):\n",
    "    if x == 0:\n",
    "        return\n",
    "    else:\n",
    "        DFS(x//2)\n",
    "        print(x%2, end=\"\")\n",
    "\n",
    "n= int(input())\n",
    "DFS(n)"
   ]
  },
  {
   "cell_type": "code",
   "execution_count": null,
   "metadata": {},
   "outputs": [],
   "source": []
  }
 ],
 "metadata": {
  "kernelspec": {
   "display_name": "Python 3",
   "language": "python",
   "name": "python3"
  },
  "language_info": {
   "codemirror_mode": {
    "name": "ipython",
    "version": 3
   },
   "file_extension": ".py",
   "mimetype": "text/x-python",
   "name": "python",
   "nbconvert_exporter": "python",
   "pygments_lexer": "ipython3",
   "version": "3.8.3"
  }
 },
 "nbformat": 4,
 "nbformat_minor": 4
}
