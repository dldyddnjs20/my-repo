{
 "cells": [
  {
   "cell_type": "markdown",
   "metadata": {},
   "source": [
    "# 바나나 숙성문제\n",
    "바나나 농장에서는 바나나를 보관하는 큰 창고를 가지고 있다. 바나나는 아래의 그림과 같이 격자 모양 상장의 칸에 하나씩 넣어서 창고에 보관한다. 창고에 보관되는 바나나들 중에는 잘익은 것도 있지만, 아직 익지 않은 바나나들도 있을 수 있다. 보관후 하루가 지나면, 먹은 바나나들의 인접한 곳에 있는 먹지 않은 바나나들은 익은 바나나의 영향을 받아 익게 된다. 하나의 바나나의 인접한 곳은 왼쪽, 오른쪽, 앞,뒤 네방향에 있는 바나나를 의미한다. 대각선 방향에 있는 바나나들에게는 영향을 주지못하며, 바나나가 혼자 저절로 익는 경우는 없다고 가정한다. 현수는 창고에 보관된 바나나들이 며칠이 지나면 다 익게 되는지 그최소수를 알고 싶어한다.\n",
    "\n",
    "바나나를 창고에 보관하는 격자 모양의 상자들의 크기와 익은 바나나들과 익지 않은 바나나들의 정보가 주어졌을때, 며칠이 지나면 바나나들이 모두 익는지 그 최소 일수를 구하는 프로그램을 작성하라, 단 상자의 일부 칸에는 바나나가 들어있지 않을수 있다."
   ]
  },
  {
   "cell_type": "code",
   "execution_count": 11,
   "metadata": {},
   "outputs": [
    {
     "ename": "SyntaxError",
     "evalue": "unexpected EOF while parsing (<ipython-input-11-1a7a05ae3089>, line 17)",
     "output_type": "error",
     "traceback": [
      "\u001b[1;36m  File \u001b[1;32m\"<ipython-input-11-1a7a05ae3089>\"\u001b[1;36m, line \u001b[1;32m17\u001b[0m\n\u001b[1;33m    \u001b[0m\n\u001b[1;37m    ^\u001b[0m\n\u001b[1;31mSyntaxError\u001b[0m\u001b[1;31m:\u001b[0m unexpected EOF while parsing\n"
     ]
    }
   ],
   "source": [
    "from collections import deque\n",
    "matrix = [[0,-1,-1,0],\n",
    "          [1,0,-1,1],\n",
    "          [0,0,1,0],\n",
    "          [-1,0,1,1]]\n",
    "dx = [-1,0,1,0]\n",
    "dy = [0,1,0,-1]\n",
    "dis = [[0]*4 for _ in range(4)]\n",
    "Q = deque()\n",
    "Q.append((0,0))\n",
    "while Q:\n",
    "    temp = Q.popleft()\n",
    "    for i in range(4):\n",
    "        x = temp[0]+dx[i]\n",
    "        y = temp[1]+dy[i]\n",
    "        if 0<= x <=4 and 0<=y <=4 and matrix[x][y] == 1 and matrix[x-1][y-1]\n",
    "       "
   ]
  },
  {
   "cell_type": "code",
   "execution_count": 7,
   "metadata": {},
   "outputs": [
    {
     "name": "stdout",
     "output_type": "stream",
     "text": [
      "[0, -1, -1, 0]\n",
      "[1, 0, -1, 1]\n",
      "[0, 0, 1, 0]\n",
      "[-1, 0, 1, 1]\n"
     ]
    }
   ],
   "source": [
    "for xx in matrix:\n",
    "    print(xx)"
   ]
  },
  {
   "cell_type": "code",
   "execution_count": 6,
   "metadata": {},
   "outputs": [
    {
     "name": "stdout",
     "output_type": "stream",
     "text": [
      "[0, 0, 0, 0]\n",
      "[0, 0, 0, 0]\n",
      "[0, 0, 0, 0]\n",
      "[0, 0, 0, 0]\n"
     ]
    }
   ],
   "source": [
    "for dd in dis:\n",
    "    print(dd)"
   ]
  },
  {
   "cell_type": "code",
   "execution_count": 40,
   "metadata": {},
   "outputs": [
    {
     "ename": "SyntaxError",
     "evalue": "invalid syntax (<ipython-input-40-d02f07c179c3>, line 23)",
     "output_type": "error",
     "traceback": [
      "\u001b[1;36m  File \u001b[1;32m\"<ipython-input-40-d02f07c179c3>\"\u001b[1;36m, line \u001b[1;32m23\u001b[0m\n\u001b[1;33m    chk_tbl[nx][ny] = chk_tbl[x][y]+1 // chk_tbl[temp[0]temp[1]+1]\u001b[0m\n\u001b[1;37m                                                        ^\u001b[0m\n\u001b[1;31mSyntaxError\u001b[0m\u001b[1;31m:\u001b[0m invalid syntax\n"
     ]
    }
   ],
   "source": [
    "from collections import deque\n",
    "f = open(\"바나나숙성in1.txt\", \"r\")\n",
    "dx = [-1,0,1,0]\n",
    "dy = [0,1,0,-1]\n",
    "col , row = map(int,f.readline().split()) # row 행 x col 렬 y\n",
    "matrix = [list(map(int,f.readline().split())) for _ in range(row)]\n",
    "\n",
    "#초기 세팅\n",
    "chk_tbl=[[0]*col for _ in range(row)]\n",
    "Q= deque()\n",
    "# 숙성 바나나의 위치값을 파악한후 Q에 집어넣기\n",
    "for i in range(row):\n",
    "    for j in range(col):\n",
    "        if matrix[i][j]==1:\n",
    "            Q.append((i,j))\n",
    "while Q:\n",
    "    x,y = Q.popleft()\n",
    "    for i in range(4):\n",
    "        nx = x+dx[i] # nx = temp[0]+dx[i]\n",
    "        ny = y+dy[i] # ny = temp[1]+dy[i]\n",
    "        if 0<= nx < row and 0<= ny < col and matrix[nx][ny]==0:\n",
    "            matrix[nx][ny] = 1\n",
    "            chk_tbl[nx][ny] = chk_tbl[x][y]+1 # chk_tbl[temp[0]temp[1]+1]\n",
    "            Q.append((nx,ny))\n",
    "\n",
    "ripe =1 # 숙성 flag 기법\n",
    "            \n",
    "for i in range(row):\n",
    "    for j in range(col):\n",
    "        if matrix[i][j] == 0: # 빈  공간에 같혀서 숙성 안된케이스\n",
    "            ripe = 0\n",
    "            break\n",
    "max_day = 0\n",
    "            \n",
    "if ripe == 1:\n",
    "    for i in range(row):\n",
    "        for j in range(col):\n",
    "            if chk_tbl[i][j] > max_day: # 빈  공간에 같혀서 숙성 안된케이스\n",
    "                max_day = chk_tbl[i][j]\n",
    "print(\"{}일이 지나면 바나나는 모두 숙성합니다.\".format(max_day))\n",
    "            \n",
    "\n",
    "f.close()"
   ]
  },
  {
   "cell_type": "code",
   "execution_count": 36,
   "metadata": {},
   "outputs": [
    {
     "data": {
      "text/plain": [
       "10"
      ]
     },
     "execution_count": 36,
     "metadata": {},
     "output_type": "execute_result"
    }
   ],
   "source": [
    "col"
   ]
  },
  {
   "cell_type": "code",
   "execution_count": 37,
   "metadata": {},
   "outputs": [
    {
     "data": {
      "text/plain": [
       "10"
      ]
     },
     "execution_count": 37,
     "metadata": {},
     "output_type": "execute_result"
    }
   ],
   "source": [
    "row"
   ]
  },
  {
   "cell_type": "code",
   "execution_count": 38,
   "metadata": {},
   "outputs": [
    {
     "data": {
      "text/plain": [
       "[[1, -1, 1, -1, 1, -1, 1, 1, 1, 1],\n",
       " [1, 1, 1, 1, 1, 1, 1, 1, 1, 1],\n",
       " [1, 1, 1, 1, 1, 1, 1, -1, 1, -1],\n",
       " [1, 1, 1, 1, -1, 1, 1, -1, 1, 1],\n",
       " [1, 1, 1, 1, 1, -1, 1, 1, 1, 1],\n",
       " [1, 1, 1, 1, 1, 1, 1, 1, 1, 1],\n",
       " [1, 1, 1, 1, 1, 1, 1, 1, 1, 1],\n",
       " [1, 1, -1, 1, 1, 1, 1, 1, -1, 1],\n",
       " [-1, 1, 1, 1, -1, 1, 1, 1, 1, 1],\n",
       " [1, 1, -1, 1, 1, 1, 1, 1, 1, 1]]"
      ]
     },
     "execution_count": 38,
     "metadata": {},
     "output_type": "execute_result"
    }
   ],
   "source": [
    "matrix"
   ]
  },
  {
   "cell_type": "code",
   "execution_count": 39,
   "metadata": {},
   "outputs": [
    {
     "data": {
      "text/plain": [
       "[[3, 0, 4, 0, 0, 0, 2, 1, 2, 3],\n",
       " [2, 3, 3, 2, 1, 2, 1, 0, 1, 2],\n",
       " [1, 2, 3, 3, 2, 2, 1, 0, 2, 0],\n",
       " [0, 1, 2, 2, 0, 1, 0, 0, 3, 4],\n",
       " [1, 1, 2, 1, 2, 0, 1, 2, 3, 4],\n",
       " [1, 0, 1, 0, 1, 1, 0, 1, 2, 3],\n",
       " [2, 1, 1, 0, 1, 2, 1, 2, 3, 4],\n",
       " [3, 2, 0, 1, 2, 3, 2, 2, 0, 4],\n",
       " [0, 3, 3, 2, 0, 3, 2, 1, 2, 3],\n",
       " [5, 4, 0, 3, 3, 2, 1, 0, 1, 2]]"
      ]
     },
     "execution_count": 39,
     "metadata": {},
     "output_type": "execute_result"
    }
   ],
   "source": [
    "chk_tbl"
   ]
  },
  {
   "cell_type": "code",
   "execution_count": 20,
   "metadata": {},
   "outputs": [
    {
     "data": {
      "text/plain": [
       "deque([(0, 4), (1, 7), (3, 0), (3, 6), (5, 1), (5, 3), (5, 6), (6, 3), (9, 7)])"
      ]
     },
     "execution_count": 20,
     "metadata": {},
     "output_type": "execute_result"
    }
   ],
   "source": [
    "Q"
   ]
  },
  {
   "cell_type": "code",
   "execution_count": 23,
   "metadata": {},
   "outputs": [
    {
     "data": {
      "text/plain": [
       "9"
      ]
     },
     "execution_count": 23,
     "metadata": {},
     "output_type": "execute_result"
    }
   ],
   "source": [
    "x"
   ]
  },
  {
   "cell_type": "code",
   "execution_count": null,
   "metadata": {},
   "outputs": [],
   "source": []
  }
 ],
 "metadata": {
  "kernelspec": {
   "display_name": "Python 3",
   "language": "python",
   "name": "python3"
  },
  "language_info": {
   "codemirror_mode": {
    "name": "ipython",
    "version": 3
   },
   "file_extension": ".py",
   "mimetype": "text/x-python",
   "name": "python",
   "nbconvert_exporter": "python",
   "pygments_lexer": "ipython3",
   "version": "3.8.3"
  }
 },
 "nbformat": 4,
 "nbformat_minor": 4
}
