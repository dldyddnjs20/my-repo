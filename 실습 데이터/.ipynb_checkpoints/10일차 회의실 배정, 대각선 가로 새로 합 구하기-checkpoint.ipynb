{
 "cells": [
  {
   "cell_type": "code",
   "execution_count": 11,
   "metadata": {},
   "outputs": [
    {
     "name": "stdout",
     "output_type": "stream",
     "text": [
      "(21, 23)회의가 가능한 횟수는 = \n"
     ]
    }
   ],
   "source": [
    "f=open(\"회의실in1.txt\",\"r\")\n",
    "n=int(f.readline())\n",
    "meeting = []\n",
    "for i in range(n):\n",
    "    st, et = map(int,f.readline().split())\n",
    "    meeting.append((st,et))\n",
    "meeting.sort(key=lambda x : (x[1], x[0]))\n",
    "\n",
    "for xx in meeting:\n",
    "    cnt = 0\n",
    "    et = 0 \n",
    "    new_meeting=meeting.remove(xx)\n",
    "    for s,e in meeting:\n",
    "        if s >=et:\n",
    "            et=e # 이전 미팅의 마지막 시간을 보관한다.\n",
    "            cnt +=1\n",
    "        \n",
    "print(\"{}회의가 가능한 횟수는 = \".format(xx,cnt))        "
   ]
  },
  {
   "cell_type": "code",
   "execution_count": 4,
   "metadata": {},
   "outputs": [
    {
     "data": {
      "text/plain": [
       "[(1, 5),\n",
       " (2, 8),\n",
       " (5, 9),\n",
       " (11, 12),\n",
       " (11, 13),\n",
       " (12, 15),\n",
       " (4, 16),\n",
       " (9, 19),\n",
       " (18, 19),\n",
       " (2, 20),\n",
       " (5, 20),\n",
       " (14, 20),\n",
       " (16, 20),\n",
       " (4, 21),\n",
       " (13, 21),\n",
       " (2, 22),\n",
       " (16, 22),\n",
       " (12, 23),\n",
       " (21, 23),\n",
       " (22, 23)]"
      ]
     },
     "execution_count": 4,
     "metadata": {},
     "output_type": "execute_result"
    }
   ],
   "source": [
    "meeting"
   ]
  },
  {
   "cell_type": "code",
   "execution_count": null,
   "metadata": {},
   "outputs": [],
   "source": [
    "f=open(\"회의실in1.txt\",\"r\")\n",
    "n=int(f.readline())\n",
    "a=[list(map(int, input().split())) for _ in range(n)]\n",
    "largest=-2147000000\n",
    "for i in range(n):\n",
    "    sum1=sum2=0\n",
    "    for j in range(n):\n",
    "        sum1+=a[i][j]\n",
    "        sum2+=a[j][i]\n",
    "    if sum1>largest:\n",
    "        largest=sum1\n",
    "    if sum2>largest:\n",
    "        largest=sum2\n",
    "sum1=sum2=0\n",
    "for i in range(n):\n",
    "    sum1+=a[i][i]\n",
    "    sum2+=a[i][n-i-1]\n",
    "if sum1>largest:\n",
    "    largest=sum1\n",
    "if sum2>largest:\n",
    "    largest=sum2\n",
    "print(largest)"
   ]
  }
 ],
 "metadata": {
  "kernelspec": {
   "display_name": "Python 3",
   "language": "python",
   "name": "python3"
  },
  "language_info": {
   "codemirror_mode": {
    "name": "ipython",
    "version": 3
   },
   "file_extension": ".py",
   "mimetype": "text/x-python",
   "name": "python",
   "nbconvert_exporter": "python",
   "pygments_lexer": "ipython3",
   "version": "3.8.3"
  }
 },
 "nbformat": 4,
 "nbformat_minor": 4
}
