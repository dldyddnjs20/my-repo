{
 "cells": [
  {
   "cell_type": "markdown",
   "metadata": {},
   "source": [
    "[\"alex pizza pasta\", \"alex pizzea\", \"alex noodle\", \"bob pasta\", \"bob noodle sandwich pasta\", \"bob steak noodle\"]\n",
    "\n",
    "result= bob\n",
    "\n",
    "[\"alex pizza pasta steak\", \"bob noodle sandwich pasta\", \"choi pizza sandwich pizza\" \"alex pizza pasta steak\"]\n",
    "\n",
    "result [alex, bob]\n",
    "\n"
   ]
  },
  {
   "cell_type": "code",
   "execution_count": 2,
   "metadata": {},
   "outputs": [],
   "source": [
    "order_a= [\"alex pizza pasta\", \"alex pizzea\", \"alex noodle\", \"bob pasta\", \"bob noodle sandwich pasta\", \"bob steak noodle\"]"
   ]
  },
  {
   "cell_type": "code",
   "execution_count": 3,
   "metadata": {},
   "outputs": [
    {
     "data": {
      "text/plain": [
       "['alex pizza pasta',\n",
       " 'alex pizzea',\n",
       " 'alex noodle',\n",
       " 'bob pasta',\n",
       " 'bob noodle sandwich pasta',\n",
       " 'bob steak noodle']"
      ]
     },
     "execution_count": 3,
     "metadata": {},
     "output_type": "execute_result"
    }
   ],
   "source": [
    "order_a"
   ]
  },
  {
   "cell_type": "code",
   "execution_count": 5,
   "metadata": {},
   "outputs": [],
   "source": [
    "order_a.sort()"
   ]
  },
  {
   "cell_type": "code",
   "execution_count": 6,
   "metadata": {},
   "outputs": [
    {
     "data": {
      "text/plain": [
       "['alex noodle',\n",
       " 'alex pizza pasta',\n",
       " 'alex pizzea',\n",
       " 'bob noodle sandwich pasta',\n",
       " 'bob pasta',\n",
       " 'bob steak noodle']"
      ]
     },
     "execution_count": 6,
     "metadata": {},
     "output_type": "execute_result"
    }
   ],
   "source": [
    "order_a"
   ]
  },
  {
   "cell_type": "code",
   "execution_count": 16,
   "metadata": {},
   "outputs": [
    {
     "name": "stdout",
     "output_type": "stream",
     "text": [
      "['alex pizza', 'alex noodle', 'bob noodle sandwich pasta', 'bob pasta', 'bob steak noodle', 'alex pizza pasta']\n"
     ]
    }
   ],
   "source": [
    "order= [\"alex pizza pasta\", \"alex pizza\", \"alex noodle\", \"bob pasta\", \"bob noodle sandwich pasta\", \"bob steak noodle\"]\n",
    "my_order=set(order)\n",
    "ordar_a = []\n",
    "for i in my_order:\n",
    "    if i not in ordar_a:\n",
    "        ordar_a.append(i)\n",
    "print(ordar_a)"
   ]
  },
  {
   "cell_type": "code",
   "execution_count": 33,
   "metadata": {},
   "outputs": [
    {
     "data": {
      "text/plain": [
       "'a'"
      ]
     },
     "execution_count": 33,
     "metadata": {},
     "output_type": "execute_result"
    }
   ],
   "source": [
    "ordar_a[0][0]"
   ]
  },
  {
   "cell_type": "code",
   "execution_count": 5,
   "metadata": {},
   "outputs": [
    {
     "name": "stdout",
     "output_type": "stream",
     "text": [
      "[('bob', 3), ('choi', 2), ('alex', 3)]\n",
      "bob alex "
     ]
    }
   ],
   "source": [
    "# orders= [\"alex pizza pasta\", \"alex pizza\", \"alex noodle\", \"bob pasta\", \"bob noodle sandwich pasta\", \"bob steak noodle\"]\n",
    "orders =[\"alex pizza pasta steak\", \"bob noodle sandwich pasta\", \"choi pizza sandwich pizza\" ,\"alex pizza pasta steak\"]\n",
    "\n",
    "names=[]\n",
    "for xx in orders:\n",
    "#     print(xx)\n",
    "    name_order = xx.split()\n",
    "    names.append(name_order[0])\n",
    "names=list(set(names))  # 이름 중복 제거\n",
    "\n",
    "name_menu_cnt=[]\n",
    "for name in names:\n",
    "    order_list=[]\n",
    "    for xx in orders:\n",
    "        order = xx.split()\n",
    "        if name == order[0]:\n",
    "            for k in range(1, len(order)):\n",
    "                order_list.append(order[k])\n",
    "#             print(names,order_list)\n",
    "    name_menu_cnt.append((name,len(set(order_list))))\n",
    "print(name_menu_cnt)\n",
    "\n",
    "name_menu_cnt.sort(key=lambda x:(x[1],x[0]), reverse = True)\n",
    "# print(name_menu_cnt)\n",
    "\n",
    "top = 0\n",
    "for xx in name_menu_cnt:\n",
    "    if xx[1] >= top:\n",
    "        print(xx[0], end = \" \")\n",
    "        top = xx[1]"
   ]
  },
  {
   "cell_type": "code",
   "execution_count": 37,
   "metadata": {},
   "outputs": [
    {
     "data": {
      "text/plain": [
       "['alex', 'bob']"
      ]
     },
     "execution_count": 37,
     "metadata": {},
     "output_type": "execute_result"
    }
   ],
   "source": [
    "names"
   ]
  },
  {
   "cell_type": "code",
   "execution_count": 4,
   "metadata": {},
   "outputs": [
    {
     "name": "stdout",
     "output_type": "stream",
     "text": [
      "{'alex': {'steak', 'pizza', 'pasta'}}\n",
      "{'alex': {'steak', 'pizza', 'pasta'}, 'bob': {'sandwich', 'pasta', 'noodle'}}\n",
      "{'alex': {'steak', 'pizza', 'pasta'}, 'bob': {'sandwich', 'pasta', 'noodle'}, 'choi': {'sandwich', 'pizza'}}\n",
      "{'alex': {'steak', 'pizza', 'pasta'}, 'bob': {'sandwich', 'pasta', 'noodle'}, 'choi': {'sandwich', 'pizza'}}\n",
      "{'alex': 3, 'bob': 3, 'choi': 2}\n",
      "bob alex "
     ]
    }
   ],
   "source": [
    "# orders= [\"alex pizza pasta\", \"alex pizza\", \"alex noodle\", \"bob pasta\", \"bob noodle sandwich pasta\", \"bob steak noodle\"]\n",
    "orders =[\"alex pizza pasta steak\", \"bob noodle sandwich pasta\", \"choi pizza sandwich pizza\", \"alex pizza pasta steak\"]\n",
    "taster_dic={}\n",
    "for i in orders:\n",
    "    i=i.split()\n",
    "    if i[0] not in taster_dic:\n",
    "        taster_dic[i[0]]=set(i[1::])\n",
    "    else:\n",
    "        taster_dic[i[0]].update(i[1::])\n",
    "    print(taster_dic)\n",
    "    \n",
    "for j in taster_dic:\n",
    "    taster_dic[j]=len(taster_dic[j])\n",
    "print(taster_dic)\n",
    "\n",
    "name_menu_cnt=[]\n",
    "for key, value in taster_dic.items():\n",
    "    name_menu_cnt.append((key,value))\n",
    "    \n",
    "name_menu_cnt.sort(key=lambda x:(x[1],x[0]), reverse = True)\n",
    "top = 0\n",
    "for xx in name_menu_cnt:\n",
    "    if xx[1] >= top:\n",
    "        print(xx[0], end = \" \")\n",
    "        top = xx[1]"
   ]
  },
  {
   "cell_type": "code",
   "execution_count": 82,
   "metadata": {},
   "outputs": [
    {
     "name": "stdout",
     "output_type": "stream",
     "text": [
      "[('alex', 3), ('bob', 3), ('choi', 2)]\n",
      "bob alex "
     ]
    }
   ],
   "source": [
    "orders = [\"alex pizza pasta steak\", \"bob noodle sandwich pasta\", \n",
    "          \"choi pizza sandwich pizza\", \"alex pizza pasta steak\"]\n",
    "\n",
    "names= []\n",
    "\n",
    "for xx in orders:\n",
    "    name_order = xx.split()\n",
    "    names.append(name_order[0])\n",
    "names = list(set(names))\n",
    "\n",
    "name_menu_cnt = []\n",
    "for name in names:\n",
    "    order_list = []\n",
    "    for xx in orders:\n",
    "        order = xx.split()\n",
    "        if name == order[0]:\n",
    "            for k in range(1, len(order)):\n",
    "                order_list.append(order[k])\n",
    "    name_menu_cnt.append((name, len(set(order_list))))\n",
    "print(name_menu_cnt)\n",
    "\n",
    "name_menu_cnt.sort(key = lambda x : (x[1], x[0]), reverse = True)\n",
    "\n",
    "top = 0\n",
    "for xx in name_menu_cnt:\n",
    "    if xx[1] >= top:\n",
    "        print(xx[0], end = \" \")\n",
    "        top = xx[1]"
   ]
  },
  {
   "cell_type": "code",
   "execution_count": null,
   "metadata": {},
   "outputs": [],
   "source": []
  }
 ],
 "metadata": {
  "kernelspec": {
   "display_name": "Python 3",
   "language": "python",
   "name": "python3"
  },
  "language_info": {
   "codemirror_mode": {
    "name": "ipython",
    "version": 3
   },
   "file_extension": ".py",
   "mimetype": "text/x-python",
   "name": "python",
   "nbconvert_exporter": "python",
   "pygments_lexer": "ipython3",
   "version": "3.8.3"
  }
 },
 "nbformat": 4,
 "nbformat_minor": 4
}
