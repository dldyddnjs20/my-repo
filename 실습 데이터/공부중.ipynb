{
 "cells": [
  {
   "cell_type": "code",
   "execution_count": 34,
   "metadata": {},
   "outputs": [],
   "source": [
    "import random\n",
    "b = [random.randint(1,101)for i in range(11)]"
   ]
  },
  {
   "cell_type": "code",
   "execution_count": 35,
   "metadata": {},
   "outputs": [
    {
     "data": {
      "text/plain": [
       "[15, 57, 57, 14, 56, 13, 84, 22, 34, 44, 100]"
      ]
     },
     "execution_count": 35,
     "metadata": {},
     "output_type": "execute_result"
    }
   ],
   "source": [
    "b"
   ]
  },
  {
   "cell_type": "code",
   "execution_count": 36,
   "metadata": {},
   "outputs": [],
   "source": [
    "def data(b):\n",
    "    b.sort()\n",
    "    center_index = len(b)//2\n",
    "    return(b[center_index]+b[-center_index-1])/2"
   ]
  },
  {
   "cell_type": "code",
   "execution_count": 37,
   "metadata": {},
   "outputs": [
    {
     "data": {
      "text/plain": [
       "44.0"
      ]
     },
     "execution_count": 37,
     "metadata": {},
     "output_type": "execute_result"
    }
   ],
   "source": [
    "data(b)"
   ]
  },
  {
   "cell_type": "code",
   "execution_count": 41,
   "metadata": {},
   "outputs": [],
   "source": [
    "def multi(data):\n",
    "    result = 1\n",
    "    for i in str(data):\n",
    "        result = result * int(i)\n",
    "    return result"
   ]
  },
  {
   "cell_type": "code",
   "execution_count": 42,
   "metadata": {},
   "outputs": [],
   "source": [
    "data = 1234"
   ]
  },
  {
   "cell_type": "code",
   "execution_count": 43,
   "metadata": {},
   "outputs": [
    {
     "data": {
      "text/plain": [
       "24"
      ]
     },
     "execution_count": 43,
     "metadata": {},
     "output_type": "execute_result"
    }
   ],
   "source": [
    "multi(data)"
   ]
  },
  {
   "cell_type": "code",
   "execution_count": 64,
   "metadata": {},
   "outputs": [
    {
     "name": "stdout",
     "output_type": "stream",
     "text": [
      "3\n",
      "mid, Lan_Cable,left_min,right_max\n",
      "376 3 0 753\n",
      "right max 값 375\n",
      "187 8 0 375\n",
      "right max 값 186\n",
      "93 18 0 186\n",
      "140 10 94 186\n",
      "163 9 141 186\n",
      "right max 값 162\n",
      "151 9 141 162\n",
      "right max 값 150\n",
      "145 10 141 150\n",
      "148 10 146 150\n",
      "149 10 149 150\n",
      "150 10 150 150\n",
      "150cm 길이의 케이블 10개 만들수 있습니다.\n"
     ]
    }
   ],
   "source": [
    "f = open(\"랜선자르기in1.txt\",\"r\")\n",
    "k, n = map(int,f.readline().split())\n",
    "Line = []\n",
    "answer = 0\n",
    "\n",
    "for _ in range(k):\n",
    "    Line.append(int(f.readline()))\n",
    "def Lan_Cable(length):\n",
    "    cnt = 0\n",
    "    for x in Line:\n",
    "        cnt += x//length\n",
    "    return cnt\n",
    "print(Lan_Cable(376))\n",
    "\n",
    "Line.sort()\n",
    "left_min=0\n",
    "right_max=Line[-1]\n",
    "\n",
    "print(\"mid, Lan_Cable,left_min,right_max\")\n",
    "\n",
    "while left_min <= right_max:\n",
    "    mid = (left_min + right_max)//2\n",
    "    print(mid,Lan_Cable(mid), left_min,right_max)\n",
    "    if Lan_Cable(mid) >= n:\n",
    "        answer=mid\n",
    "        left_min=mid+1\n",
    "    else:\n",
    "        right_max=mid-1\n",
    "        print(\"right max 값\",right_max)\n",
    "print(\"{}cm 길이의 케이블 {}개 만들수 있습니다.\".format(answer, Lan_Cable(answer)))\n",
    "\n",
    "f.close()"
   ]
  },
  {
   "cell_type": "code",
   "execution_count": 52,
   "metadata": {},
   "outputs": [
    {
     "data": {
      "text/plain": [
       "(5, 10)"
      ]
     },
     "execution_count": 52,
     "metadata": {},
     "output_type": "execute_result"
    }
   ],
   "source": [
    "k,n"
   ]
  },
  {
   "cell_type": "code",
   "execution_count": 57,
   "metadata": {},
   "outputs": [
    {
     "data": {
      "text/plain": [
       "[105, 273, 345, 401, 753]"
      ]
     },
     "execution_count": 57,
     "metadata": {},
     "output_type": "execute_result"
    }
   ],
   "source": [
    "Line"
   ]
  },
  {
   "cell_type": "code",
   "execution_count": null,
   "metadata": {},
   "outputs": [],
   "source": []
  }
 ],
 "metadata": {
  "kernelspec": {
   "display_name": "Python 3",
   "language": "python",
   "name": "python3"
  },
  "language_info": {
   "codemirror_mode": {
    "name": "ipython",
    "version": 3
   },
   "file_extension": ".py",
   "mimetype": "text/x-python",
   "name": "python",
   "nbconvert_exporter": "python",
   "pygments_lexer": "ipython3",
   "version": "3.8.3"
  }
 },
 "nbformat": 4,
 "nbformat_minor": 4
}
