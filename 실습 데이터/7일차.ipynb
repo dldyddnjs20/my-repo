{
 "cells": [
  {
   "cell_type": "code",
   "execution_count": 22,
   "metadata": {},
   "outputs": [
    {
     "name": "stdout",
     "output_type": "stream",
     "text": [
      "1049\n"
     ]
    }
   ],
   "source": [
    "f=open(\"사과나무in1.txt\",\"r\")\n",
    "n=int(f.readline())\n",
    "a = [list(map(int,f.readline().split()))for _ in range(n)]\n",
    "\n",
    "sum = 0\n",
    "s=e=n//2 #시작은 s index, 마지막은 e index\n",
    "for i in range(n):\n",
    "    for j in range(s,e+1):\n",
    "        sum=sum+a[i][j]\n",
    "    if i < n//2:\n",
    "        s=s-1 ; e=e+1\n",
    "    else :\n",
    "        s=s+1 ; e=e-1\n",
    "print(sum)\n",
    "f.close()"
   ]
  },
  {
   "cell_type": "code",
   "execution_count": 33,
   "metadata": {},
   "outputs": [],
   "source": [
    "def N_Matirx(n):\n",
    "    import random\n",
    "    \n",
    "    \n",
    "    random.seed(0)\n",
    "    return[[random.randint(1,n*n) for i in range(n)]for j in range(n)]"
   ]
  },
  {
   "cell_type": "code",
   "execution_count": 34,
   "metadata": {},
   "outputs": [
    {
     "name": "stdout",
     "output_type": "stream",
     "text": [
      "[7, 7, 1]\n",
      "[5, 9, 8]\n",
      "[7, 5, 8]\n"
     ]
    }
   ],
   "source": [
    "x = 3\n",
    "m1=N_Matirx(x)\n",
    "for i in range(x):\n",
    "    print(m1[i])"
   ]
  },
  {
   "cell_type": "code",
   "execution_count": 29,
   "metadata": {},
   "outputs": [
    {
     "name": "stdout",
     "output_type": "stream",
     "text": [
      "n*n 마방진을 위한 n값을 입력(3이상, 홀수인)=7\n",
      "[[30 39 48  1 10 19 28]\n",
      " [38 47  7  9 18 27 29]\n",
      " [46  6  8 17 26 35 37]\n",
      " [ 5 14 16 25 34 36 45]\n",
      " [13 15 24 33 42 44  4]\n",
      " [21 23 32 41 43  3 12]\n",
      " [22 31 40 49  2 11 20]]\n"
     ]
    }
   ],
   "source": [
    "import numpy as np\n",
    "n = int(input(\"n*n 마방진을 위한 n값을 입력(3이상, 홀수인)=\"))\n",
    "matrix = np.zeros((n,n),dtype=int)\n",
    "\n",
    "s_row=0; s_col=n//2\n",
    "matrix[s_row, s_col]=1\n",
    "row=0 ; col=0\n",
    "\n",
    "for i in range(2, n*n+1):\n",
    "    row = s_row # 전 위치값 row값 보관\n",
    "    col = s_col # 전 위치값 col값 보관\n",
    "    s_row = s_row -1 ; s_col = s_col +1\n",
    "    if s_row <0 :\n",
    "        s_row = n-1\n",
    "    if s_col >n-1:\n",
    "        s_col= 0\n",
    "        \n",
    "    if matrix[s_row, s_col] == 0:\n",
    "        matrix[s_row, s_col]= i\n",
    "    else : #0이 아니면 다른 숫자가 있다는 이야기\n",
    "        s_row = row+1 ; s_col = col\n",
    "        matrix[s_row, s_col] = i\n",
    "\n",
    "print(matrix)"
   ]
  },
  {
   "cell_type": "code",
   "execution_count": 30,
   "metadata": {},
   "outputs": [
    {
     "data": {
      "text/plain": [
       "array([[30, 39, 48,  1, 10, 19, 28],\n",
       "       [38, 47,  7,  9, 18, 27, 29],\n",
       "       [46,  6,  8, 17, 26, 35, 37],\n",
       "       [ 5, 14, 16, 25, 34, 36, 45],\n",
       "       [13, 15, 24, 33, 42, 44,  4],\n",
       "       [21, 23, 32, 41, 43,  3, 12],\n",
       "       [22, 31, 40, 49,  2, 11, 20]])"
      ]
     },
     "execution_count": 30,
     "metadata": {},
     "output_type": "execute_result"
    }
   ],
   "source": [
    "matrix"
   ]
  },
  {
   "cell_type": "code",
   "execution_count": null,
   "metadata": {},
   "outputs": [],
   "source": []
  }
 ],
 "metadata": {
  "kernelspec": {
   "display_name": "Python 3",
   "language": "python",
   "name": "python3"
  },
  "language_info": {
   "codemirror_mode": {
    "name": "ipython",
    "version": 3
   },
   "file_extension": ".py",
   "mimetype": "text/x-python",
   "name": "python",
   "nbconvert_exporter": "python",
   "pygments_lexer": "ipython3",
   "version": "3.8.3"
  }
 },
 "nbformat": 4,
 "nbformat_minor": 4
}
