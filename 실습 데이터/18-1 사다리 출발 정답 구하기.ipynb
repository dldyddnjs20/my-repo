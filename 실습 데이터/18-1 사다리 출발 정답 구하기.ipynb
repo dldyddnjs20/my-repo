{
 "cells": [
  {
   "cell_type": "markdown",
   "metadata": {},
   "source": [
    "## 사다리 출발 정답 구하기\n",
    "\n",
    "사다리 표현은 2차원 평면은 0으로 채워지고, 사다리는 1로 표현합니다. 현수는 특정도착지점으로 도착하기 위해서는 몇 번째 열에서 출발해야 하는지 알고 싶습니다.\n",
    "특정 도착지점은 2로 표기됩니다. 여러분이 도와주세요 사다리 지도가 10*10이면 특정 목적지인 2에 도착하려면 7번 열 출발지에서 출발하면 됩니다."
   ]
  },
  {
   "cell_type": "code",
   "execution_count": 5,
   "metadata": {},
   "outputs": [],
   "source": [
    "f = open(\"사다리in1.txt\",\"r\")\n",
    "matrix = [list(map(int,f.readline().split())) for _ in range(10)]\n",
    "chk_tbl=[[0]*10 for _ in range(10)]\n",
    "\n",
    "def DFS(row,col):\n",
    "    chk_tbl[row][col]= 1\n",
    "    "
   ]
  },
  {
   "cell_type": "code",
   "execution_count": 3,
   "metadata": {},
   "outputs": [
    {
     "data": {
      "text/plain": [
       "[[1, 0, 1, 0, 0, 1, 0, 1, 0, 1],\n",
       " [1, 0, 1, 1, 1, 1, 0, 1, 0, 1],\n",
       " [1, 0, 1, 0, 0, 1, 0, 1, 0, 1],\n",
       " [1, 0, 1, 0, 0, 1, 0, 1, 1, 1],\n",
       " [1, 0, 1, 0, 0, 1, 0, 1, 0, 1],\n",
       " [1, 0, 1, 1, 1, 1, 0, 1, 0, 1],\n",
       " [1, 0, 1, 0, 0, 1, 0, 1, 1, 1],\n",
       " [1, 1, 1, 0, 0, 1, 0, 1, 0, 1],\n",
       " [1, 0, 1, 0, 0, 1, 1, 1, 0, 1],\n",
       " [1, 0, 1, 0, 0, 2, 0, 1, 0, 1]]"
      ]
     },
     "execution_count": 3,
     "metadata": {},
     "output_type": "execute_result"
    }
   ],
   "source": [
    "matrix"
   ]
  },
  {
   "cell_type": "code",
   "execution_count": 6,
   "metadata": {},
   "outputs": [
    {
     "data": {
      "text/plain": [
       "[[0, 0, 0, 0, 0, 0, 0, 0, 0, 0],\n",
       " [0, 0, 0, 0, 0, 0, 0, 0, 0, 0],\n",
       " [0, 0, 0, 0, 0, 0, 0, 0, 0, 0],\n",
       " [0, 0, 0, 0, 0, 0, 0, 0, 0, 0],\n",
       " [0, 0, 0, 0, 0, 0, 0, 0, 0, 0],\n",
       " [0, 0, 0, 0, 0, 0, 0, 0, 0, 0],\n",
       " [0, 0, 0, 0, 0, 0, 0, 0, 0, 0],\n",
       " [0, 0, 0, 0, 0, 0, 0, 0, 0, 0],\n",
       " [0, 0, 0, 0, 0, 0, 0, 0, 0, 0],\n",
       " [0, 0, 0, 0, 0, 0, 0, 0, 0, 0]]"
      ]
     },
     "execution_count": 6,
     "metadata": {},
     "output_type": "execute_result"
    }
   ],
   "source": [
    "chk_tbl"
   ]
  },
  {
   "cell_type": "code",
   "execution_count": 21,
   "metadata": {},
   "outputs": [
    {
     "name": "stdout",
     "output_type": "stream",
     "text": [
      "5 칸에서 출발하시면 됩니다.\n"
     ]
    }
   ],
   "source": [
    "def DFS(row,col):\n",
    "    chk_tbl[row][col]= 1\n",
    "    if row == 0:\n",
    "        print(\"{} 칸에서 출발하시면 됩니다.\".format(col))\n",
    "    else:\n",
    "        if col-1 >=0 and matrix[row][col-1]==1 and chk_tbl[row][col-1]==0: #인덱스 에러, 벽인지 아닌지 확인, 왔던곳인지 아닌지\n",
    "            DFS(row,col-1) # 왼쪽으로 움직이기\n",
    "        elif col+1 <10 and matrix[row][col+1]==1 and chk_tbl[row][col+1]==0:\n",
    "            DFS(row, col+1)# 오른쪽으로 움직이기\n",
    "        else:\n",
    "            DFS(row-1,col) # 위로 움직이기\n",
    "            \n",
    "\n",
    "\n",
    "# 초기화 하기\n",
    "f = open(\"사다리in2.txt\", \"r\")\n",
    "matrix = [list(map(int,f.readline().split())) for _ in range(10)]\n",
    "chk_tbl = [[0]*10 for _ in range(10)]\n",
    "for col in range(10):\n",
    "    if matrix[9][col]==2:\n",
    "        DFS(9,col)"
   ]
  },
  {
   "cell_type": "code",
   "execution_count": 22,
   "metadata": {},
   "outputs": [
    {
     "data": {
      "text/plain": [
       "[[0, 0, 0, 0, 0, 1, 0, 0, 0, 0],\n",
       " [0, 0, 1, 1, 1, 1, 0, 0, 0, 0],\n",
       " [0, 0, 1, 0, 0, 0, 0, 0, 0, 0],\n",
       " [0, 0, 1, 0, 0, 0, 0, 0, 0, 0],\n",
       " [1, 1, 1, 0, 0, 0, 0, 0, 0, 0],\n",
       " [1, 0, 0, 0, 0, 0, 0, 0, 0, 0],\n",
       " [1, 0, 0, 0, 0, 0, 0, 0, 0, 0],\n",
       " [1, 1, 1, 0, 0, 0, 0, 0, 0, 0],\n",
       " [0, 0, 1, 0, 0, 0, 0, 0, 0, 0],\n",
       " [0, 0, 1, 0, 0, 0, 0, 0, 0, 0]]"
      ]
     },
     "execution_count": 22,
     "metadata": {},
     "output_type": "execute_result"
    }
   ],
   "source": [
    "chk_tbl"
   ]
  },
  {
   "cell_type": "code",
   "execution_count": 23,
   "metadata": {},
   "outputs": [
    {
     "data": {
      "text/plain": [
       "[[1, 0, 1, 0, 0, 1, 0, 1, 0, 1],\n",
       " [1, 0, 1, 1, 1, 1, 0, 1, 0, 1],\n",
       " [1, 0, 1, 0, 0, 1, 0, 1, 0, 1],\n",
       " [1, 0, 1, 0, 0, 1, 0, 1, 1, 1],\n",
       " [1, 1, 1, 0, 0, 1, 0, 1, 0, 1],\n",
       " [1, 0, 1, 1, 1, 1, 0, 1, 0, 1],\n",
       " [1, 0, 1, 0, 0, 1, 0, 1, 1, 1],\n",
       " [1, 1, 1, 0, 0, 1, 0, 1, 0, 1],\n",
       " [1, 0, 1, 0, 0, 1, 1, 1, 0, 1],\n",
       " [1, 0, 2, 0, 0, 1, 0, 1, 0, 1]]"
      ]
     },
     "execution_count": 23,
     "metadata": {},
     "output_type": "execute_result"
    }
   ],
   "source": [
    "matrix"
   ]
  },
  {
   "cell_type": "code",
   "execution_count": null,
   "metadata": {},
   "outputs": [],
   "source": []
  }
 ],
 "metadata": {
  "kernelspec": {
   "display_name": "Python 3",
   "language": "python",
   "name": "python3"
  },
  "language_info": {
   "codemirror_mode": {
    "name": "ipython",
    "version": 3
   },
   "file_extension": ".py",
   "mimetype": "text/x-python",
   "name": "python",
   "nbconvert_exporter": "python",
   "pygments_lexer": "ipython3",
   "version": "3.8.3"
  }
 },
 "nbformat": 4,
 "nbformat_minor": 4
}
