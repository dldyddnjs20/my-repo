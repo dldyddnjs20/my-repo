{
 "cells": [
  {
   "cell_type": "markdown",
   "metadata": {},
   "source": [
    "## 단어 매치 게임\n",
    "- 같은 단어끼리 Match를 맺는데 Match가 안되는 단어를 찾아서 출력하세요.\n",
    "\n",
    "- 입력 설명\n",
    "2n-1개의 단어가 들어온다.\n",
    "\n",
    "- 입력 예제\n",
    "5\n",
    "big\n",
    "good\n",
    "sky\n",
    "blue\n",
    "mouse\n",
    "sky\n",
    "good\n",
    "mouse\n",
    "big\n",
    "\n",
    "- 출력예제\n",
    "blue"
   ]
  },
  {
   "cell_type": "markdown",
   "metadata": {},
   "source": [
    "### 내가 푼 문제"
   ]
  },
  {
   "cell_type": "code",
   "execution_count": 38,
   "metadata": {},
   "outputs": [],
   "source": [
    "f = open(\"단어매치in1.txt\",\"r\")\n",
    "n = 2*(int(f.readline()))-1\n",
    "lang=[]\n",
    "# for i in range(n):\n",
    "#     lang.append(f.readline().split())\n",
    "f.close()"
   ]
  },
  {
   "cell_type": "code",
   "execution_count": 42,
   "metadata": {},
   "outputs": [
    {
     "data": {
      "text/plain": [
       "['big', 'good', 'sky', 'blue', 'mouse', 'sky', 'good', 'mouse', 'big']"
      ]
     },
     "execution_count": 42,
     "metadata": {},
     "output_type": "execute_result"
    }
   ],
   "source": [
    "f = open(\"단어매치in1.txt\",\"r\")\n",
    "n = 2*(int(f.readline()))-1\n",
    "lang=[]\n",
    "for _ in range(n):\n",
    "    lang=lang + (f.readline().split())\n",
    "lang\n",
    "    \n",
    "\n"
   ]
  },
  {
   "cell_type": "markdown",
   "metadata": {},
   "source": [
    "## 선생님이 푼 문제"
   ]
  },
  {
   "cell_type": "code",
   "execution_count": 16,
   "metadata": {},
   "outputs": [
    {
     "name": "stdout",
     "output_type": "stream",
     "text": [
      "blue\n",
      "\n"
     ]
    }
   ],
   "source": [
    "f = open(\"단어매치in1.txt\",\"r\")\n",
    "n = int(f.readline())\n",
    "sw = dict()\n",
    "for i in range(2*n-1):\n",
    "    word = f.readline()\n",
    "    if sw.get(word) == None :\n",
    "        sw[word]=1\n",
    "    else :\n",
    "        sw[word] +=1\n",
    "for key,val in sw.items():\n",
    "    if val ==1:\n",
    "        print(key)\n",
    "        break\n",
    "f.close()"
   ]
  },
  {
   "cell_type": "code",
   "execution_count": 27,
   "metadata": {},
   "outputs": [
    {
     "name": "stdout",
     "output_type": "stream",
     "text": [
      "dkfjkqhgk\n"
     ]
    }
   ],
   "source": [
    "# 김승환님이 푼 솔루션...\n",
    "with open(\"단어매치in2.txt\",\"r\") as f:\n",
    "    n = int(f.readline())\n",
    "    ma = []\n",
    "    for _ in range(2*n-1):\n",
    "        ma +=(f.readline().split())\n",
    "    for i in ma:\n",
    "        if ma.count(i) ==1:\n",
    "            print(i)"
   ]
  },
  {
   "cell_type": "code",
   "execution_count": 28,
   "metadata": {},
   "outputs": [
    {
     "name": "stdout",
     "output_type": "stream",
     "text": [
      "dkfjkqhgk\n",
      "\n"
     ]
    }
   ],
   "source": [
    "# 마건익님이 푼 솔루션...\n",
    "from collections import Counter\n",
    "f = open(\"단어매치in2.txt\",\"r\")\n",
    "n = int(f.readline())\n",
    "word = [ x for x in f.readlines()]\n",
    "word = Counter(word) # Counter 명령에 의해 자동 word가 count되고 dictionary 형으로 변경\n",
    "for key,value in word.items():\n",
    "    if value==1:\n",
    "        print(key)\n",
    "f.close()"
   ]
  },
  {
   "cell_type": "code",
   "execution_count": 23,
   "metadata": {},
   "outputs": [
    {
     "data": {
      "text/plain": [
       "['big\\n',\n",
       " 'good\\n',\n",
       " 'sky\\n',\n",
       " 'blue\\n',\n",
       " 'mouse\\n',\n",
       " 'sky\\n',\n",
       " 'good\\n',\n",
       " 'mouse\\n',\n",
       " 'big\\n']"
      ]
     },
     "execution_count": 23,
     "metadata": {},
     "output_type": "execute_result"
    }
   ],
   "source": [
    "word."
   ]
  },
  {
   "cell_type": "markdown",
   "metadata": {},
   "source": [
    "## DFS로 이진트리를 만들고 순회하기\n",
    "- DFS를 이용해 이진트리를 만드시고 관렿나여 순회 출력을 완성하세요.\n",
    "- 아래 그림과 같은 이진트리를 전위순회와 후위 순회를 연습해보세요."
   ]
  },
  {
   "cell_type": "markdown",
   "metadata": {},
   "source": [
    "### 내가 푼 문제"
   ]
  },
  {
   "cell_type": "code",
   "execution_count": null,
   "metadata": {},
   "outputs": [],
   "source": [
    "def DFS(x):\n",
    "    if x == 7:\n",
    "        return\n",
    "    else:\n",
    "        \n",
    "\n",
    "\n",
    "DFS(n)"
   ]
  },
  {
   "cell_type": "markdown",
   "metadata": {},
   "source": [
    "### 선생님이 푼 문제"
   ]
  },
  {
   "cell_type": "code",
   "execution_count": 50,
   "metadata": {},
   "outputs": [
    {
     "name": "stdout",
     "output_type": "stream",
     "text": [
      "4 5 2 6 7 3 1 "
     ]
    }
   ],
   "source": [
    "def DFS(step):\n",
    "    if step > 7:\n",
    "        return\n",
    "    else:\n",
    "#       print(step,end=' ') 전위순회\n",
    "        DFS(step*2)\n",
    "#       print(step,end=' ') 중위순회\n",
    "        DFS(step*2+1)\n",
    "#       print(step,end=' ') 후위순회\n",
    "DFS(1)"
   ]
  },
  {
   "cell_type": "code",
   "execution_count": null,
   "metadata": {},
   "outputs": [],
   "source": []
  }
 ],
 "metadata": {
  "kernelspec": {
   "display_name": "Python 3",
   "language": "python",
   "name": "python3"
  },
  "language_info": {
   "codemirror_mode": {
    "name": "ipython",
    "version": 3
   },
   "file_extension": ".py",
   "mimetype": "text/x-python",
   "name": "python",
   "nbconvert_exporter": "python",
   "pygments_lexer": "ipython3",
   "version": "3.8.3"
  }
 },
 "nbformat": 4,
 "nbformat_minor": 4
}
