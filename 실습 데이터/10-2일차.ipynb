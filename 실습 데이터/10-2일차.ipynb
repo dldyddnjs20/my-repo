{
 "cells": [
  {
   "cell_type": "code",
   "execution_count": 8,
   "metadata": {},
   "outputs": [],
   "source": [
    "# *args 처리해 봅시다.\n",
    "# 이선희가 들어오면 이 선희 < 한칸띔\n",
    "def lastname_and_firstname(*Names):\n",
    "    print(type(Names))\n",
    "    for name in Names:\n",
    "        print(\"%s %s\"%(name[0], name[1:3]), end= ' ')\n",
    "    print('\\n')"
   ]
  },
  {
   "cell_type": "code",
   "execution_count": 9,
   "metadata": {},
   "outputs": [
    {
     "name": "stdout",
     "output_type": "stream",
     "text": [
      "<class 'tuple'>\n",
      "이 선희 이 문세 곽 철용 \n",
      "\n"
     ]
    }
   ],
   "source": [
    "lastname_and_firstname(\"이선희\",\"이문세\",\"곽철용\")"
   ]
  },
  {
   "cell_type": "code",
   "execution_count": 10,
   "metadata": {},
   "outputs": [
    {
     "name": "stdout",
     "output_type": "stream",
     "text": [
      "<class 'tuple'>\n",
      "이선희 ['이문세', '곽철용'] \n",
      "\n"
     ]
    }
   ],
   "source": [
    "star_list=[\"이선희\",\"이문세\",\"곽철용\",\"최영탁\",\"박준형\",\"정경미\"]\n",
    "lastname_and_firstname(star_list)"
   ]
  },
  {
   "cell_type": "code",
   "execution_count": 11,
   "metadata": {},
   "outputs": [],
   "source": [
    "test_str = \"이용원\""
   ]
  },
  {
   "cell_type": "code",
   "execution_count": 12,
   "metadata": {},
   "outputs": [
    {
     "data": {
      "text/plain": [
       "3"
      ]
     },
     "execution_count": 12,
     "metadata": {},
     "output_type": "execute_result"
    }
   ],
   "source": [
    "len(test_str)"
   ]
  },
  {
   "cell_type": "code",
   "execution_count": 13,
   "metadata": {},
   "outputs": [
    {
     "data": {
      "text/plain": [
       "'이용원'"
      ]
     },
     "execution_count": 13,
     "metadata": {},
     "output_type": "execute_result"
    }
   ],
   "source": [
    "test_str[:100] # : 이게들어오면 자동으로 slice가 들어옴"
   ]
  },
  {
   "cell_type": "code",
   "execution_count": 22,
   "metadata": {},
   "outputs": [
    {
     "data": {
      "text/plain": [
       "'이용원'"
      ]
     },
     "execution_count": 22,
     "metadata": {},
     "output_type": "execute_result"
    }
   ],
   "source": [
    "test_str[slice(0,10)]"
   ]
  },
  {
   "cell_type": "code",
   "execution_count": 26,
   "metadata": {},
   "outputs": [],
   "source": [
    "def voca_list(**Words):\n",
    "    for key, value in Words.items():\n",
    "        print(\"{0} is {1}\".format(key,value))"
   ]
  },
  {
   "cell_type": "code",
   "execution_count": 28,
   "metadata": {},
   "outputs": [
    {
     "name": "stdout",
     "output_type": "stream",
     "text": [
      "apple is 사과\n",
      "banana is 바나나\n"
     ]
    }
   ],
   "source": [
    "voca_list(apple=\"사과\",banana=\"바나나\")"
   ]
  },
  {
   "cell_type": "code",
   "execution_count": 40,
   "metadata": {},
   "outputs": [],
   "source": [
    "# *은 튜플형태로 전달 **은 딕셔너리 형태로 전달\n",
    "def fruit_store_board(Store_name, *Messages, **fruit_tag):\n",
    "    '''\n",
    "    store_name : 가게이름\n",
    "    Messages : 오늘 사인보드에 알릴 사항\n",
    "    fruit_tage : 과일 가격표\n",
    "    '''\n",
    "    print(\"***********\", Store_name,\"*********\\n\")\n",
    "    for message in Messages:\n",
    "        print(message)\n",
    "    print(\"\\n\")\n",
    "    for fruit, tag in fruit_tag.items():\n",
    "        print(fruit,\"의 가격은\", tag, \"입니다.\")"
   ]
  },
  {
   "cell_type": "code",
   "execution_count": 41,
   "metadata": {
    "scrolled": true
   },
   "outputs": [
    {
     "name": "stdout",
     "output_type": "stream",
     "text": [
      "*********** 이용원 과일상화 *********\n",
      "\n",
      "오늘은\n",
      "청과들이\n",
      "신선합니다.\n",
      "\n",
      "\n",
      "apple 의 가격은 10 입니다.\n",
      "banana 의 가격은 5 입니다.\n",
      "berry 의 가격은 20 입니다.\n"
     ]
    }
   ],
   "source": [
    "fruit_store_board(\"이용원 과일상화\",\"오늘은\",\"청과들이\",\"신선합니다.\",apple=10,banana=5, berry=20)"
   ]
  },
  {
   "cell_type": "code",
   "execution_count": 63,
   "metadata": {},
   "outputs": [],
   "source": [
    "def cafe_store_board(Store_name, *Messages, **menu_tag):\n",
    "    '''\n",
    "    store_name : 가게이름\n",
    "    Messages : 오늘 사인보드에 알릴 사항\n",
    "    fruit_tage : 과일 가격표\n",
    "    '''\n",
    "    print(\"***********\", Store_name,\"*********\\n\")\n",
    "    for message in Messages:\n",
    "        print(message)\n",
    "    print(\"\\n\")\n",
    "    for coffee, tag in menu_tag.items():\n",
    "        calib = 40-len(coffee)*2-len(str(tag)) # *2 한이유는 한글이라서\n",
    "        print(\"{}\".format(coffee),\".\"*calib,\"{}\".format(tag))"
   ]
  },
  {
   "cell_type": "code",
   "execution_count": 64,
   "metadata": {},
   "outputs": [
    {
     "name": "stdout",
     "output_type": "stream",
     "text": [
      "*********** 이용원의 커피가게 *********\n",
      "\n",
      "얼어죽어도 아이스아메리카노\n",
      "\n",
      "\n",
      "아메리카노 .......................... 2000\n",
      "라때는말이야라때 .................... 3500\n",
      "모카 ................................ 8000\n",
      "아이스아메리카노 .................... 2500\n",
      "스콘 ................................. 800\n"
     ]
    }
   ],
   "source": [
    "cafe_store_board(\"이용원의 커피가게\",\"얼어죽어도 아이스아메리카노\",아메리카노 = 2000,라때는말이야라때=3500,모카=8000,아이스아메리카노=2500,스콘=800)"
   ]
  },
  {
   "cell_type": "code",
   "execution_count": null,
   "metadata": {},
   "outputs": [],
   "source": []
  }
 ],
 "metadata": {
  "kernelspec": {
   "display_name": "Python 3",
   "language": "python",
   "name": "python3"
  },
  "language_info": {
   "codemirror_mode": {
    "name": "ipython",
    "version": 3
   },
   "file_extension": ".py",
   "mimetype": "text/x-python",
   "name": "python",
   "nbconvert_exporter": "python",
   "pygments_lexer": "ipython3",
   "version": "3.8.3"
  }
 },
 "nbformat": 4,
 "nbformat_minor": 4
}
