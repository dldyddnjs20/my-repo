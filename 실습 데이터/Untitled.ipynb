{
 "cells": [
  {
   "cell_type": "code",
   "execution_count": 15,
   "metadata": {},
   "outputs": [],
   "source": [
    "with open(\"주사위게임1.txt\",\"r\")as f:\n",
    "    n = list(map(int,f.readline().split()))\n",
    "    dice =(list(map(int,f.readline().split())))\n",
    "    dice.sort()\n",
    "    a,b,c = map(int,dice)\n",
    "    if a==b , b==c :\n",
    "        "
   ]
  },
  {
   "cell_type": "code",
   "execution_count": 16,
   "metadata": {},
   "outputs": [
    {
     "data": {
      "text/plain": [
       "(1, 2, 3)"
      ]
     },
     "execution_count": 16,
     "metadata": {},
     "output_type": "execute_result"
    }
   ],
   "source": [
    "a,b,c"
   ]
  },
  {
   "cell_type": "code",
   "execution_count": 24,
   "metadata": {},
   "outputs": [
    {
     "name": "stdout",
     "output_type": "stream",
     "text": [
      "300\n"
     ]
    }
   ],
   "source": [
    "temp = [3,2,1]\n",
    "temp.sort()\n",
    "a,b,c=temp\n",
    "\n",
    "if a==b and b==c: # 주사위눈이 다 같은경우\n",
    "    prize= 10000 + (a*1000)\n",
    "elif a==b or b==c: # 주사위눈이 2개만 같은 경우: sort를 했기때문에 a==c 로직은 생략해도 된다.\n",
    "    prize= 1000 +(b*100)\n",
    "else: #주사위눈이 다 다른경우\n",
    "    prize= c*100\n",
    "print(prize)\n",
    "    "
   ]
  },
  {
   "cell_type": "code",
   "execution_count": 22,
   "metadata": {},
   "outputs": [
    {
     "data": {
      "text/plain": [
       "(2, 3, 6)"
      ]
     },
     "execution_count": 22,
     "metadata": {},
     "output_type": "execute_result"
    }
   ],
   "source": [
    "a,b,c"
   ]
  },
  {
   "cell_type": "code",
   "execution_count": 36,
   "metadata": {},
   "outputs": [
    {
     "name": "stdout",
     "output_type": "stream",
     "text": [
      "16000\n"
     ]
    }
   ],
   "source": [
    "with open(\"주사위게임1.txt\",\"r\")as f:\n",
    "    n=int(f.readline())\n",
    "    max_prize=0\n",
    "    for i in range(n):\n",
    "        temp=list(map(int,(f.readline().split())))\n",
    "        temp.sort()\n",
    "        a,b,c=temp\n",
    "\n",
    "        if a==b and b==c: # 주사위눈이 다 같은경우\n",
    "            prize= 10000 + (a*1000)\n",
    "        elif a==b or b==c: # 주사위눈이 2개만 같은 경우: sort를 했기때문에 a==c 로직은 생략해도 된다.\n",
    "            prize= 1000 +(b*100)\n",
    "        else: #주사위눈이 다 다른경우\n",
    "            prize= c*100\n",
    "        \n",
    "        if prize > max_prize:\n",
    "            max_prize = prize\n",
    "\n",
    "print(max_prize)"
   ]
  },
  {
   "cell_type": "code",
   "execution_count": 68,
   "metadata": {},
   "outputs": [],
   "source": [
    "from collections import deque\n",
    "with open(\"응급실in1.txt\",\"r\") as f:\n",
    "    n,m = map(int,f.readline().split())\n",
    "    sick = deque(list(map(int,(f.readline().split()))))\n",
    "    sick = [(sick[i],i)for i in range(n)]\n",
    "    "
   ]
  },
  {
   "cell_type": "code",
   "execution_count": 59,
   "metadata": {},
   "outputs": [
    {
     "data": {
      "text/plain": [
       "(5, 2)"
      ]
     },
     "execution_count": 59,
     "metadata": {},
     "output_type": "execute_result"
    }
   ],
   "source": [
    "n,m"
   ]
  },
  {
   "cell_type": "code",
   "execution_count": 69,
   "metadata": {},
   "outputs": [
    {
     "data": {
      "text/plain": [
       "[(60, 0), (50, 1), (70, 2), (80, 3), (90, 4)]"
      ]
     },
     "execution_count": 69,
     "metadata": {},
     "output_type": "execute_result"
    }
   ],
   "source": [
    "sick"
   ]
  },
  {
   "cell_type": "code",
   "execution_count": 88,
   "metadata": {},
   "outputs": [
    {
     "name": "stdout",
     "output_type": "stream",
     "text": [
      "지정하신 2 환자의 진료차례는 3 번째 입니다.\n"
     ]
    }
   ],
   "source": [
    "from collections import deque\n",
    "f=open(\"응급실in1.txt\",\"r\")\n",
    "n,m = map(int,f.readline().split())\n",
    "emer_lst = [(idx,int(xx))for idx, xx in enumerate(f.readline().split())]\n",
    "Q=deque(emer_lst)\n",
    "cnt=0\n",
    "while True:\n",
    "    now = Q.popleft()\n",
    "    if any(now[1]< x[1] for x in Q):\n",
    "        Q.append(now)\n",
    "    else:\n",
    "        cnt +=1 # 이사람은 진료 받는다.\n",
    "        if now[0] == m:\n",
    "            break\n",
    "print(\"지정하신 {} 환자의 진료차례는 {} 번째 입니다.\".format(m,cnt))\n",
    "    "
   ]
  },
  {
   "cell_type": "code",
   "execution_count": 71,
   "metadata": {},
   "outputs": [
    {
     "data": {
      "text/plain": [
       "(5, 2)"
      ]
     },
     "execution_count": 71,
     "metadata": {},
     "output_type": "execute_result"
    }
   ],
   "source": [
    "n,m"
   ]
  },
  {
   "cell_type": "code",
   "execution_count": 80,
   "metadata": {},
   "outputs": [],
   "source": [
    "for idx, xx in enumerate(f.readline().split()):\n",
    "    print(idx, int(xx))"
   ]
  },
  {
   "cell_type": "code",
   "execution_count": 81,
   "metadata": {},
   "outputs": [
    {
     "data": {
      "text/plain": [
       "(4, '90')"
      ]
     },
     "execution_count": 81,
     "metadata": {},
     "output_type": "execute_result"
    }
   ],
   "source": [
    "idx,xx"
   ]
  },
  {
   "cell_type": "code",
   "execution_count": 84,
   "metadata": {},
   "outputs": [
    {
     "data": {
      "text/plain": [
       "[(0, 60), (1, 50), (2, 70), (3, 80), (4, 90)]"
      ]
     },
     "execution_count": 84,
     "metadata": {},
     "output_type": "execute_result"
    }
   ],
   "source": [
    "emer_lst"
   ]
  },
  {
   "cell_type": "code",
   "execution_count": null,
   "metadata": {},
   "outputs": [],
   "source": []
  }
 ],
 "metadata": {
  "kernelspec": {
   "display_name": "Python 3",
   "language": "python",
   "name": "python3"
  },
  "language_info": {
   "codemirror_mode": {
    "name": "ipython",
    "version": 3
   },
   "file_extension": ".py",
   "mimetype": "text/x-python",
   "name": "python",
   "nbconvert_exporter": "python",
   "pygments_lexer": "ipython3",
   "version": "3.8.3"
  }
 },
 "nbformat": 4,
 "nbformat_minor": 4
}
