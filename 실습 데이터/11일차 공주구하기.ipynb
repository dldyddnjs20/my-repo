{
 "cells": [
  {
   "cell_type": "code",
   "execution_count": 1,
   "metadata": {},
   "outputs": [],
   "source": [
    "lst = [xx for xx in range(1,9)]#[1,2,3,4,5,6,7,8]"
   ]
  },
  {
   "cell_type": "code",
   "execution_count": 2,
   "metadata": {},
   "outputs": [
    {
     "data": {
      "text/plain": [
       "[1, 2, 3, 4, 5, 6, 7, 8]"
      ]
     },
     "execution_count": 2,
     "metadata": {},
     "output_type": "execute_result"
    }
   ],
   "source": [
    "lst"
   ]
  },
  {
   "cell_type": "code",
   "execution_count": 3,
   "metadata": {},
   "outputs": [
    {
     "data": {
      "text/plain": [
       "8"
      ]
     },
     "execution_count": 3,
     "metadata": {},
     "output_type": "execute_result"
    }
   ],
   "source": [
    "lst.pop()"
   ]
  },
  {
   "cell_type": "code",
   "execution_count": 4,
   "metadata": {},
   "outputs": [
    {
     "data": {
      "text/plain": [
       "[1, 2, 3, 4, 5, 6, 7]"
      ]
     },
     "execution_count": 4,
     "metadata": {},
     "output_type": "execute_result"
    }
   ],
   "source": [
    "lst"
   ]
  },
  {
   "cell_type": "code",
   "execution_count": 5,
   "metadata": {},
   "outputs": [
    {
     "data": {
      "text/plain": [
       "1"
      ]
     },
     "execution_count": 5,
     "metadata": {},
     "output_type": "execute_result"
    }
   ],
   "source": [
    "lst.pop(0)"
   ]
  },
  {
   "cell_type": "code",
   "execution_count": 6,
   "metadata": {},
   "outputs": [
    {
     "data": {
      "text/plain": [
       "[2, 3, 4, 5, 6, 7]"
      ]
     },
     "execution_count": 6,
     "metadata": {},
     "output_type": "execute_result"
    }
   ],
   "source": [
    "lst"
   ]
  },
  {
   "cell_type": "code",
   "execution_count": 7,
   "metadata": {},
   "outputs": [],
   "source": [
    "lst.append(lst.pop(0))"
   ]
  },
  {
   "cell_type": "code",
   "execution_count": 8,
   "metadata": {},
   "outputs": [
    {
     "data": {
      "text/plain": [
       "[3, 4, 5, 6, 7, 2]"
      ]
     },
     "execution_count": 8,
     "metadata": {},
     "output_type": "execute_result"
    }
   ],
   "source": [
    "lst"
   ]
  },
  {
   "cell_type": "code",
   "execution_count": 12,
   "metadata": {},
   "outputs": [
    {
     "name": "stdout",
     "output_type": "stream",
     "text": [
      "n과 k를 컴마로 구분해서 입력하세요20,7\n",
      "[7, 8, 9, 10, 11, 12, 13, 14, 15, 16, 17, 18, 19, 20, 1, 2, 3, 4, 5, 6]\n",
      "빠지는 왕자는 7\n",
      "[14, 15, 16, 17, 18, 19, 20, 1, 2, 3, 4, 5, 6, 8, 9, 10, 11, 12, 13]\n",
      "빠지는 왕자는 14\n",
      "[1, 2, 3, 4, 5, 6, 8, 9, 10, 11, 12, 13, 15, 16, 17, 18, 19, 20]\n",
      "빠지는 왕자는 1\n",
      "[9, 10, 11, 12, 13, 15, 16, 17, 18, 19, 20, 2, 3, 4, 5, 6, 8]\n",
      "빠지는 왕자는 9\n",
      "[17, 18, 19, 20, 2, 3, 4, 5, 6, 8, 10, 11, 12, 13, 15, 16]\n",
      "빠지는 왕자는 17\n",
      "[5, 6, 8, 10, 11, 12, 13, 15, 16, 18, 19, 20, 2, 3, 4]\n",
      "빠지는 왕자는 5\n",
      "[15, 16, 18, 19, 20, 2, 3, 4, 6, 8, 10, 11, 12, 13]\n",
      "빠지는 왕자는 15\n",
      "[4, 6, 8, 10, 11, 12, 13, 16, 18, 19, 20, 2, 3]\n",
      "빠지는 왕자는 4\n",
      "[16, 18, 19, 20, 2, 3, 6, 8, 10, 11, 12, 13]\n",
      "빠지는 왕자는 16\n",
      "[8, 10, 11, 12, 13, 18, 19, 20, 2, 3, 6]\n",
      "빠지는 왕자는 8\n",
      "[20, 2, 3, 6, 10, 11, 12, 13, 18, 19]\n",
      "빠지는 왕자는 20\n",
      "[13, 18, 19, 2, 3, 6, 10, 11, 12]\n",
      "빠지는 왕자는 13\n",
      "[11, 12, 18, 19, 2, 3, 6, 10]\n",
      "빠지는 왕자는 11\n",
      "[10, 12, 18, 19, 2, 3, 6]\n",
      "빠지는 왕자는 10\n",
      "[12, 18, 19, 2, 3, 6]\n",
      "빠지는 왕자는 12\n",
      "[19, 2, 3, 6, 18]\n",
      "빠지는 왕자는 19\n",
      "[6, 18, 2, 3]\n",
      "빠지는 왕자는 6\n",
      "[18, 2, 3]\n",
      "빠지는 왕자는 18\n",
      "[2, 3]\n",
      "빠지는 왕자는 2\n",
      "공주를 구할 남자는 3 번째 왕자 입니다.\n"
     ]
    }
   ],
   "source": [
    "n,k = map(int, input(\"n과 k를 컴마로 구분해서 입력하세요\").split(','))\n",
    "princess=list(range(1,n+1))\n",
    "\n",
    "while princess:\n",
    "    for _ in range(k-1):\n",
    "         princess.append(princess.pop(0))\n",
    "    print(princess)        \n",
    "    print(\"빠지는 왕자는\",princess.pop(0))\n",
    "    if len(princess) == 1:\n",
    "        print(\"공주를 구할 남자는\",princess[0],\"번째 왕자 입니다.\")\n",
    "        princess.pop(0) # break"
   ]
  },
  {
   "cell_type": "code",
   "execution_count": 14,
   "metadata": {},
   "outputs": [
    {
     "ename": "NameError",
     "evalue": "name 'princess' is not defined",
     "output_type": "error",
     "traceback": [
      "\u001b[1;31m---------------------------------------------------------------------------\u001b[0m",
      "\u001b[1;31mNameError\u001b[0m                                 Traceback (most recent call last)",
      "\u001b[1;32m<ipython-input-14-3ccd7543f394>\u001b[0m in \u001b[0;36m<module>\u001b[1;34m\u001b[0m\n\u001b[1;32m----> 1\u001b[1;33m \u001b[0mprincess\u001b[0m\u001b[1;33m\u001b[0m\u001b[1;33m\u001b[0m\u001b[0m\n\u001b[0m",
      "\u001b[1;31mNameError\u001b[0m: name 'princess' is not defined"
     ]
    }
   ],
   "source": [
    "princess"
   ]
  },
  {
   "cell_type": "code",
   "execution_count": 18,
   "metadata": {},
   "outputs": [],
   "source": [
    "lst = [1,2,3,4,5,6,7,8]"
   ]
  },
  {
   "cell_type": "code",
   "execution_count": 2,
   "metadata": {},
   "outputs": [],
   "source": [
    "lst.remove(1)"
   ]
  },
  {
   "cell_type": "code",
   "execution_count": 3,
   "metadata": {},
   "outputs": [
    {
     "data": {
      "text/plain": [
       "[2, 3, 4, 5, 6, 7, 8]"
      ]
     },
     "execution_count": 3,
     "metadata": {},
     "output_type": "execute_result"
    }
   ],
   "source": [
    "lst"
   ]
  },
  {
   "cell_type": "code",
   "execution_count": 19,
   "metadata": {},
   "outputs": [
    {
     "name": "stdout",
     "output_type": "stream",
     "text": [
      "8\n",
      "[1, 2, 3, 4, 5, 6, 7]\n",
      "7\n",
      "[1, 2, 3, 4, 5, 6]\n",
      "6\n",
      "[1, 2, 3, 4, 5]\n",
      "5\n",
      "[1, 2, 3, 4]\n",
      "4\n",
      "[1, 2, 3]\n",
      "3\n",
      "[1, 2]\n",
      "2\n",
      "[1]\n",
      "1\n",
      "[]\n"
     ]
    }
   ],
   "source": [
    "for i in range(len(lst),0,-1):\n",
    "    print(i)\n",
    "    lst.remove(i)\n",
    "    print(lst)"
   ]
  },
  {
   "cell_type": "code",
   "execution_count": 3,
   "metadata": {},
   "outputs": [
    {
     "data": {
      "text/plain": [
       "[2, 4, 6, 8]"
      ]
     },
     "execution_count": 3,
     "metadata": {},
     "output_type": "execute_result"
    }
   ],
   "source": [
    ":\n",
    "lst"
   ]
  },
  {
   "cell_type": "code",
   "execution_count": 20,
   "metadata": {},
   "outputs": [
    {
     "name": "stdout",
     "output_type": "stream",
     "text": [
      "n과 k를 컴마로 구분해서 입력하세요8,3\n",
      "[3, 4, 5, 6, 7, 8, 1, 2]\n",
      "빠지는 왕자는 3\n",
      "[6, 7, 8, 1, 2, 4, 5]\n",
      "빠지는 왕자는 6\n",
      "[1, 2, 4, 5, 7, 8]\n",
      "빠지는 왕자는 1\n",
      "[5, 7, 8, 2, 4]\n",
      "빠지는 왕자는 5\n",
      "[2, 4, 7, 8]\n",
      "빠지는 왕자는 2\n",
      "[8, 4, 7]\n",
      "빠지는 왕자는 8\n",
      "[4, 7]\n",
      "빠지는 왕자는 4\n",
      "공주를 구할 남자는 7 번째 왕자 입니다.\n"
     ]
    }
   ],
   "source": [
    "n,k = map(int, input(\"n과 k를 컴마로 구분해서 입력하세요\").split(','))\n",
    "princess=list(range(1,n+1))\n",
    "\n",
    "while princess:\n",
    "    for _ in range(k-1):\n",
    "         princess.append(princess.pop(0))\n",
    "    print(princess)        \n",
    "    print(\"빠지는 왕자는\",princess.pop(0))\n",
    "    if len(princess) == 1:\n",
    "        print(\"공주를 구할 남자는\",princess[0],\"번째 왕자 입니다.\")\n",
    "        princess.pop(0) # break"
   ]
  },
  {
   "cell_type": "code",
   "execution_count": null,
   "metadata": {},
   "outputs": [],
   "source": [
    "from collections import deque\n",
    "n,k = map(int, input(\"n과 k를 컴마로 구분해서 입력하세요\").split(','))\n",
    "princess=list(range(1,n+1))\n",
    "dq=deque(princess)\n",
    "\n",
    "while princess:\n",
    "    for _ in range(k-1):\n",
    "        dq.append(dq.popleft())\n",
    "    dq.popleft()\n",
    "    if len(dq) == 1:\n",
    "        print(\"공주를 구할 남자는\",dq[0],\"번째 왕자 입니다.\")\n",
    "        break"
   ]
  },
  {
   "cell_type": "code",
   "execution_count": 10,
   "metadata": {},
   "outputs": [
    {
     "name": "stdout",
     "output_type": "stream",
     "text": [
      "20 [56, 80, 91, 56, 36, 97, 47, 15, 12, 70, 40, 71, 66, 10, 12, 68, 72, 38, 31, 55] 150\n",
      "1\n"
     ]
    }
   ],
   "source": [
    "f=open(\"창고정리2.txt\",\"r\")\n",
    "n=int(f.readline())\n",
    "a = list(map(int,f.readline().split()))\n",
    "m = int(f.readline())\n",
    "print(n,a,m)\n",
    "a.sort()\n",
    "for _ in range(m):\n",
    "    a[0]+=1\n",
    "    a[L-1]-=1\n",
    "    a.sort()\n",
    "\n",
    "print(a[L-1]-a[0])\n",
    "f.close()"
   ]
  },
  {
   "cell_type": "code",
   "execution_count": 9,
   "metadata": {},
   "outputs": [
    {
     "data": {
      "text/plain": [
       "150"
      ]
     },
     "execution_count": 9,
     "metadata": {},
     "output_type": "execute_result"
    }
   ],
   "source": [
    "m"
   ]
  },
  {
   "cell_type": "code",
   "execution_count": 19,
   "metadata": {},
   "outputs": [
    {
     "name": "stdout",
     "output_type": "stream",
     "text": [
      "[14, 40, 42, 65, 68, 69, 76, 76, 81, 87]\n",
      "[15, 40, 42, 65, 68, 69, 76, 76, 81, 86]\n",
      "[16, 40, 42, 65, 68, 69, 76, 76, 81, 85]\n",
      "[17, 40, 42, 65, 68, 69, 76, 76, 81, 84]\n",
      "[18, 40, 42, 65, 68, 69, 76, 76, 81, 83]\n",
      "[19, 40, 42, 65, 68, 69, 76, 76, 81, 82]\n",
      "[20, 40, 42, 65, 68, 69, 76, 76, 81, 81]\n",
      "[21, 40, 42, 65, 68, 69, 76, 76, 81, 80]\n",
      "[22, 40, 42, 65, 68, 69, 76, 76, 80, 80]\n",
      "[23, 40, 42, 65, 68, 69, 76, 76, 80, 79]\n",
      "[24, 40, 42, 65, 68, 69, 76, 76, 79, 79]\n",
      "[25, 40, 42, 65, 68, 69, 76, 76, 79, 78]\n",
      "[26, 40, 42, 65, 68, 69, 76, 76, 78, 78]\n",
      "[27, 40, 42, 65, 68, 69, 76, 76, 78, 77]\n",
      "[28, 40, 42, 65, 68, 69, 76, 76, 77, 77]\n",
      "[29, 40, 42, 65, 68, 69, 76, 76, 77, 76]\n",
      "[30, 40, 42, 65, 68, 69, 76, 76, 76, 76]\n",
      "[31, 40, 42, 65, 68, 69, 76, 76, 76, 75]\n",
      "[32, 40, 42, 65, 68, 69, 75, 76, 76, 75]\n",
      "[33, 40, 42, 65, 68, 69, 75, 75, 76, 75]\n",
      "[34, 40, 42, 65, 68, 69, 75, 75, 75, 75]\n",
      "[35, 40, 42, 65, 68, 69, 75, 75, 75, 74]\n",
      "[36, 40, 42, 65, 68, 69, 74, 75, 75, 74]\n",
      "[37, 40, 42, 65, 68, 69, 74, 74, 75, 74]\n",
      "[38, 40, 42, 65, 68, 69, 74, 74, 74, 74]\n",
      "[39, 40, 42, 65, 68, 69, 74, 74, 74, 73]\n",
      "[40, 40, 42, 65, 68, 69, 73, 74, 74, 73]\n",
      "[41, 40, 42, 65, 68, 69, 73, 73, 74, 73]\n",
      "[41, 41, 42, 65, 68, 69, 73, 73, 73, 73]\n",
      "[42, 41, 42, 65, 68, 69, 73, 73, 73, 72]\n",
      "[42, 42, 42, 65, 68, 69, 72, 73, 73, 72]\n",
      "[43, 42, 42, 65, 68, 69, 72, 72, 73, 72]\n",
      "[43, 42, 43, 65, 68, 69, 72, 72, 72, 72]\n",
      "[43, 43, 43, 65, 68, 69, 72, 72, 72, 71]\n",
      "[44, 43, 43, 65, 68, 69, 71, 72, 72, 71]\n",
      "[44, 43, 44, 65, 68, 69, 71, 71, 72, 71]\n",
      "[44, 44, 44, 65, 68, 69, 71, 71, 71, 71]\n",
      "[45, 44, 44, 65, 68, 69, 71, 71, 71, 70]\n",
      "[45, 44, 45, 65, 68, 69, 70, 71, 71, 70]\n",
      "[45, 45, 45, 65, 68, 69, 70, 70, 71, 70]\n",
      "[46, 45, 45, 65, 68, 69, 70, 70, 70, 70]\n",
      "[46, 45, 46, 65, 68, 69, 70, 70, 70, 69]\n",
      "[46, 46, 46, 65, 68, 69, 69, 70, 70, 69]\n",
      "[47, 46, 46, 65, 68, 69, 69, 69, 70, 69]\n",
      "[47, 46, 47, 65, 68, 69, 69, 69, 69, 69]\n",
      "[47, 47, 47, 65, 68, 69, 69, 69, 69, 68]\n",
      "[48, 47, 47, 65, 68, 68, 69, 69, 69, 68]\n",
      "[48, 47, 48, 65, 68, 68, 68, 69, 69, 68]\n",
      "[48, 48, 48, 65, 68, 68, 68, 68, 69, 68]\n",
      "[49, 48, 48, 65, 68, 68, 68, 68, 68, 68]\n",
      "[49, 48, 49, 65, 68, 68, 68, 68, 68, 67]\n",
      "20\n"
     ]
    }
   ],
   "source": [
    "with open(\"창고정리1.txt\") as f:\n",
    "    n = int(f.readline())\n",
    "    ar = list(map(int,f.readline().split()))\n",
    "    k = int(f.readline())\n",
    "    ar.sort()\n",
    "    print(ar)\n",
    "    for _ in range(k):\n",
    "        ar[0] +=1\n",
    "        ar[-1] -=1\n",
    "        print(ar)\n",
    "        ar.sort()\n",
    "        \n",
    "print(ar[-1]-ar[0])"
   ]
  },
  {
   "cell_type": "code",
   "execution_count": 13,
   "metadata": {},
   "outputs": [
    {
     "data": {
      "text/plain": [
       "[14, 40, 42, 65, 68, 69, 76, 76, 81, 87]"
      ]
     },
     "execution_count": 13,
     "metadata": {},
     "output_type": "execute_result"
    }
   ],
   "source": [
    "ar"
   ]
  },
  {
   "cell_type": "code",
   "execution_count": null,
   "metadata": {},
   "outputs": [],
   "source": []
  }
 ],
 "metadata": {
  "kernelspec": {
   "display_name": "Python 3",
   "language": "python",
   "name": "python3"
  },
  "language_info": {
   "codemirror_mode": {
    "name": "ipython",
    "version": 3
   },
   "file_extension": ".py",
   "mimetype": "text/x-python",
   "name": "python",
   "nbconvert_exporter": "python",
   "pygments_lexer": "ipython3",
   "version": "3.8.3"
  }
 },
 "nbformat": 4,
 "nbformat_minor": 4
}
